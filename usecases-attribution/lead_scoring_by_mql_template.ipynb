{
 "cells": [
  {
   "cell_type": "markdown",
   "id": "3a7f5dfb",
   "metadata": {},
   "source": [
    "1. Run dbt project to create snowflake table with required data\n",
    "2. Import data from snowflake to s3"
   ]
  },
  {
   "cell_type": "markdown",
   "id": "9626ce64",
   "metadata": {},
   "source": [
    "1. dbt scheduler creates training data in snowflake\n",
    "2. This gets pushed to s3 from WH actions"
   ]
  },
  {
   "cell_type": "markdown",
   "id": "e88a1aa7",
   "metadata": {},
   "source": [
    "\n",
    "### Defining constants"
   ]
  },
  {
   "cell_type": "code",
   "execution_count": 1,
   "id": "2e2f9947",
   "metadata": {},
   "outputs": [],
   "source": [
    "# AWS DATA BUCKET where both input data is stored, and output data should be stored.\n",
    "S3_BUCKET = 'dileep-dev'\n",
    "\n",
    "# INPUT DATA LOCATION. Folder within aws bucket where input data is stored as json files (extracted from Rudderstack Reverse ETL)\n",
    "S3_INPUT_FOLDER_LOCATION = 'rudder_wh_actions_usecases_attribution_raw_data'\n",
    "# INPUT LABEL LOCATION. Folder within aws bucket where input label data is stored as json files (extracted from Rudderstack Reverse ETL)\n",
    "S3_LABEL_DATA_FOLDER_LOCATION = 'rudder_wh_actions_usecases_attribution_label_data'\n",
    "\n",
    "# Output location. Folder within aws bucket where output data \n",
    "S3_OUTPUT_FOLDER_LOCATION='rudder_wh_actions_usecases_attribution_lead_scoring'\n",
    "\n",
    "# MODEL CONFIGURATION.\n",
    "\n",
    "# The input data may sometimes contain a touch that is not required and you choose to drop them. \n",
    "# Such touches should be added to this list. \n",
    "# If all touches should be considered, we can pass an empty list (ex: IGNORE_TOUCHES=[])\n",
    "IGNORE_TOUCHES = [\"request-demo\", 'product', 'marketing_newsletter_sent', 'marketing_campaign_sent', 'sf_outbound_email', 'sf_inbound_email', 'marketing_newsletter_clicked', 'marketing_campaign_clicked']\n",
    "\n",
    "\n",
    "# We may want to combine a few touches into one group. Ex: all video ads from different sources may be combined into one.\n",
    "# In such case, we make below flag True (else, False) and create a touchpoint_mapping dictionary (see below) to group related touch points together\n",
    "GROUP_TOUCHES = True\n",
    "\n",
    "# This is required only if GROUP_TOUCHES = True. In below mapping, each key corresponds to a touch we want to group. \n",
    "# Ex, sources, directory, home etc are all converted to 'webapp' and video-library, guides, case-studies are converted to 'docs'\n",
    "# If a touch is not found in the key, no modification is applied on that and it stays as is.\n",
    "touchpoint_mapping = {\"\":\"webapp\",\n",
    "                      \"others\": None,\n",
    "                      \"sources\": \"webapp\",\n",
    "                      \"directory\": \"webapp\",\n",
    "                      \"home\": \"webapp\",\n",
    "                      \"signup\": None,\n",
    "                      \"destinations\": \"webapp\",\n",
    "                      \"integration\": \"product\",\n",
    "                      \"login\": None,\n",
    "                      \"syncs\": \"webapp\",\n",
    "                      \"profile\": None,\n",
    "                      \"transformations\": \"product\",\n",
    "                      \"team\": \"webapp\",\n",
    "                      \"rudderstack-vs-segment\": None,\n",
    "                      \"video-library\": \"docs\",\n",
    "                      \"guides\": \"docs\",\n",
    "                      \"rudderstack-vs-snowplow\": None,\n",
    "                      'case-studies': 'docs', \n",
    "                      'join-rudderstack-slack': 'join_slack', \n",
    "                      'join-rudderstack-slack-community': 'join_slack'}\n",
    "\n",
    "#touchpoint_mapping = None # If no mapping is required.\n",
    "\n",
    "# Ignores any data before this date. If not required, we can give it as None\n",
    "MIN_DATE = '2021-06-01'\n",
    "#MIN_DATE = None # If not required\n",
    "\n",
    "# Dedup logic. IF same event repeats consecutively within this interval (in seconds), they are considered the same and first occurence timestamp is counted. \n",
    "# If we don't want a dedup logic, we can make this value as 0.\n",
    "MIN_EVENT_INTERVAL_IN_SEC = 300\n",
    "\n",
    "\n"
   ]
  },
  {
   "cell_type": "code",
   "execution_count": 2,
   "id": "6a9d38c0",
   "metadata": {},
   "outputs": [],
   "source": [
    "\n",
    "# LGOISTIC REGRESSION PARAMETERS. THESE ARE USUALLY NOT CHANGED\n",
    "l1_penalty = .1\n",
    "metrics_list = [\"roc_auc\", \"f1\", \"precision\", \"recall\", \"pr_auc\"]\n"
   ]
  },
  {
   "cell_type": "markdown",
   "id": "2e2dfd7e",
   "metadata": {},
   "source": [
    "### Loading data from s3"
   ]
  },
  {
   "cell_type": "code",
   "execution_count": 3,
   "id": "1d6fab9e",
   "metadata": {},
   "outputs": [],
   "source": [
    "import json\n",
    "import boto3\n",
    "import os\n",
    "import sys\n",
    "import gzip\n",
    "from typing import List, Optional\n",
    "import datetime\n",
    "\n",
    "import pandas as pd\n",
    "import numpy as np\n",
    "import seaborn as sns\n",
    "import matplotlib.pyplot as plt\n",
    "\n",
    "from sklearn.model_selection import train_test_split\n",
    "from sklearn.linear_model import LogisticRegression\n",
    "from sklearn.ensemble import RandomForestClassifier\n",
    "from sklearn.metrics import precision_recall_fscore_support\n",
    "\n",
    "from sklearn.metrics import roc_auc_score, roc_curve, precision_recall_curve, accuracy_score, classification_report, confusion_matrix, f1_score\n",
    "from sklearn.metrics import average_precision_score, ConfusionMatrixDisplay\n",
    "from sklearn.metrics import auc, plot_precision_recall_curve\n",
    "import pickle\n",
    "\n",
    "import logging\n",
    "import yaml\n",
    "from dataclasses import dataclass\n",
    "pd.set_option('display.max_columns', None)\n",
    "from tqdm import tqdm\n",
    "\n",
    "tqdm.pandas()"
   ]
  },
  {
   "cell_type": "code",
   "execution_count": 4,
   "id": "8191e994",
   "metadata": {},
   "outputs": [],
   "source": [
    "logger = logging.getLogger()\n",
    "logger.setLevel(logging.INFO)\n",
    "\n",
    "output_file_handler = logging.FileHandler(\"lead_scoring_training.log\")\n",
    "stdout_handler = logging.StreamHandler(sys.stdout)\n",
    "\n",
    "logger.addHandler(output_file_handler)\n",
    "logger.addHandler(stdout_handler)\n",
    "logging.getLogger('matplotlib.font_manager').disabled = True\n"
   ]
  },
  {
   "cell_type": "code",
   "execution_count": 5,
   "id": "324e42f0",
   "metadata": {},
   "outputs": [],
   "source": [
    "\n",
    "# Helper functions to load input data\n",
    "def load_json(json_str: str,\n",
    "              key: Optional[str]=None):\n",
    "    if key:\n",
    "        return json.loads(json_str)[key]\n",
    "    else:\n",
    "        return json.loads(json_str)\n",
    "\n",
    "def load_s3_compressed_dictionary_object(s3_file_object, key: Optional[str]=None):\n",
    "    with gzip.GzipFile(fileobj=s3_file_object.get()['Body']) as gzipfile:\n",
    "        content = gzipfile.read().decode('utf-8').split('\\n')\n",
    "    \n",
    "    return [load_json(line, key) for line in content if line]\n",
    "\n",
    "def load_json_data_from_s3(s3_instance, s3_bucket_name: str, files_prefix: str, json_dict_key: Optional[str]=None) -> pd.DataFrame:\n",
    "    bucket = s3_instance.Bucket(s3_bucket_name)\n",
    "    all_rows = []\n",
    "    for file_obj in tqdm(bucket.objects.filter(Prefix=files_prefix)):\n",
    "        all_rows.append(load_s3_compressed_dictionary_object(file_obj, json_dict_key))\n",
    "    \n",
    "    df = pd.DataFrame.from_records([row for rows in all_rows for row in rows])\n",
    "    df.columns = [col.lower() for col in list(df)]\n",
    "    return df\n"
   ]
  },
  {
   "cell_type": "code",
   "execution_count": 6,
   "id": "447f5450",
   "metadata": {},
   "outputs": [
    {
     "name": "stderr",
     "output_type": "stream",
     "text": [
      "51it [00:18,  2.76it/s]\n",
      "1it [00:00, 14.46it/s]"
     ]
    },
    {
     "name": "stdout",
     "output_type": "stream",
     "text": [
      "CPU times: user 17 s, sys: 1.16 s, total: 18.2 s\n",
      "Wall time: 21 s\n"
     ]
    },
    {
     "name": "stderr",
     "output_type": "stream",
     "text": [
      "\n"
     ]
    }
   ],
   "source": [
    "%%time\n",
    "# Loading data from Reverse ETL output into Python\n",
    "s3 = boto3.resource(\"s3\")\n",
    "\n",
    "raw_data = load_json_data_from_s3(s3, S3_BUCKET, S3_INPUT_FOLDER_LOCATION, json_dict_key='traits')\n",
    "raw_data[\"timestamp\"] = pd.to_datetime(raw_data[\"timestamp\"]).dt.tz_localize(None)\n",
    "\n",
    "label_data = load_json_data_from_s3(s3, S3_BUCKET, S3_LABEL_DATA_FOLDER_LOCATION, json_dict_key='traits')\n",
    "label_data['call_conversion_time'] = pd.to_datetime(label_data['call_conversion_time']).dt.tz_localize(None)"
   ]
  },
  {
   "cell_type": "code",
   "execution_count": 7,
   "id": "7bca3d9a",
   "metadata": {},
   "outputs": [],
   "source": [
    "domain_conversion_dates = label_data.set_index(\"domain\").to_dict()['call_conversion_time']\n",
    "raw_data = raw_data.drop(columns=['row_id', 'call_conversion_time']).drop_duplicates()"
   ]
  },
  {
   "cell_type": "markdown",
   "id": "3d54d59f",
   "metadata": {},
   "source": [
    "## Data prep after downloading from DBT output"
   ]
  },
  {
   "cell_type": "code",
   "execution_count": 8,
   "id": "3ea47c2d",
   "metadata": {},
   "outputs": [],
   "source": [
    "# Transformations on the raw data. We apply the constraints defined in the constants cell above.\n",
    "\n",
    "def dedup_by_ts_delta(df: pd.DataFrame, primary_key: str, timestamp: str, event_type: str, max_lag: int) -> pd.DataFrame:\n",
    "    \"\"\"\n",
    "    ### Parameters\n",
    "    1. df : pd.DataFrame\n",
    "        - User touches dataframe. \n",
    "    2. primary_key : str\n",
    "        - column name of the column that contains user_id. \n",
    "    3. timestamp: str\n",
    "        - column name of the column that contains event timestamp\n",
    "    4. event_type: str\n",
    "        - column name of the column that contains event/touch data\n",
    "    5. max_lag: int\n",
    "        - max time (in sec) between consecutive events to be considered as duplicates. \n",
    "\n",
    "    ### Returns\n",
    "    - DataFrame after doing following steps\n",
    "    Based on primary key and event_type, it checks if two consecutive events occur within the max_lag time window. If so, they are considered same event and the latter event is dropped. \n",
    "    \"\"\"\n",
    "    if max_lag <= 0:\n",
    "        return df\n",
    "    df = df.sort_values(by=[primary_key, timestamp], ascending=True).reset_index(drop=True)\n",
    "    original_columns = df.columns\n",
    "    df[\"prev_user\"] = df[primary_key].shift()\n",
    "    df[\"prev_event\"] = df[event_type].shift()\n",
    "    df[\"prev_ts\"] = df[timestamp].shift()\n",
    "\n",
    "    def is_duplicate(row):\n",
    "        if pd.isnull(row[\"prev_user\"]) or pd.isnull(row[\"prev_event\"]) or pd.isnull(row[\"prev_ts\"]):\n",
    "            return False\n",
    "        elif row[primary_key] == row[\"prev_user\"] and row[event_type] == row[\"prev_event\"] and (\n",
    "                row[timestamp] - row[\"prev_ts\"]).total_seconds() <= max_lag:\n",
    "            return True\n",
    "        else:\n",
    "            return False\n",
    "\n",
    "    df[\"is_duplicate\"] = df.progress_apply(is_duplicate, axis=1)\n",
    "    return df.query(\"is_duplicate==False\")[original_columns].reset_index(drop=True)\n",
    "\n",
    "def process_raw_data(raw_data_df: pd.DataFrame,\n",
    "                     ignore_touches: List[str],\n",
    "                     min_date: Optional[str],\n",
    "                     dedup_min_time: int,\n",
    "                     reduce_touches: bool = True) -> pd.DataFrame:\n",
    "    \"\"\"\n",
    "    ### Parameters\n",
    "    1. raw_data_df : Raw data \n",
    "    2. ignore_touches: Ignores the touches present in this list. \n",
    "    3. min_date: Ignores events before this date\n",
    "    4. dedup_min_time: Time (in sec) between two events of same type. Events that repeat within this interval are combined as one (earlier timestamp is considered)\n",
    "    5. reduce_touches : Whether to combine touchpoints based on their logical groupings\n",
    "\n",
    "    ### Returns\n",
    "    - DataFrame after doing following steps\n",
    "    1. Groups tracks pages if reduce_touches flag is True\n",
    "    2. Deduplicates based on 5 min interval \n",
    "    3. Ignores touches based on ignore_touches list\n",
    "    4. Ðrops events before the min_date timestamp.\n",
    "    \"\"\"\n",
    "    if reduce_touches:\n",
    "        raw_data_df[\"touch\"] = raw_data_df[\"touch\"].apply(lambda touch: touchpoint_mapping.get(touch, touch))\n",
    "    \n",
    "    dedup_data_df = (dedup_by_ts_delta(raw_data_df\n",
    "                                       .query(\"~touch.isnull()\",\n",
    "                                              engine='python')\n",
    "                                       .drop_duplicates(),\n",
    "                                       \"domain\",\n",
    "                                       \"timestamp\", \n",
    "                                       \"touch\", \n",
    "                                       dedup_min_time)\n",
    "                     .filter(['domain', 'touch', 'timestamp', 'is_mql', 'touch_category'])\n",
    "                    )\n",
    "    if min_date:\n",
    "        return dedup_data_df.query(f'touch not in @ignore_touches and timestamp >= \"{min_date}\"', engine='python')\n",
    "    else:\n",
    "        return dedup_data_df.query(f'touch not in @ignore_touches', engine='python')"
   ]
  },
  {
   "cell_type": "code",
   "execution_count": 9,
   "id": "25d50dd3",
   "metadata": {},
   "outputs": [
    {
     "name": "stdout",
     "output_type": "stream",
     "text": [
      "NumExpr defaulting to 2 threads.\n"
     ]
    },
    {
     "name": "stderr",
     "output_type": "stream",
     "text": [
      "100%|██████████| 717733/717733 [00:51<00:00, 13917.69it/s]\n"
     ]
    },
    {
     "name": "stdout",
     "output_type": "stream",
     "text": [
      "CPU times: user 54.5 s, sys: 232 ms, total: 54.8 s\n",
      "Wall time: 54.7 s\n"
     ]
    }
   ],
   "source": [
    "%%time\n",
    "touch_data_filtered = process_raw_data(raw_data, IGNORE_TOUCHES, MIN_DATE, MIN_EVENT_INTERVAL_IN_SEC, GROUP_TOUCHES)\n",
    "del raw_data"
   ]
  },
  {
   "cell_type": "code",
   "execution_count": 10,
   "id": "57e734df",
   "metadata": {},
   "outputs": [],
   "source": [
    "# Combining the label data to events data\n",
    "touch_data_filtered['call_conversion_time'] = touch_data_filtered['domain'].apply(lambda domain: domain_conversion_dates.get(domain,None))"
   ]
  },
  {
   "cell_type": "code",
   "execution_count": 11,
   "id": "bbc3e704",
   "metadata": {},
   "outputs": [
    {
     "data": {
      "text/html": [
       "<div>\n",
       "<style scoped>\n",
       "    .dataframe tbody tr th:only-of-type {\n",
       "        vertical-align: middle;\n",
       "    }\n",
       "\n",
       "    .dataframe tbody tr th {\n",
       "        vertical-align: top;\n",
       "    }\n",
       "\n",
       "    .dataframe thead th {\n",
       "        text-align: right;\n",
       "    }\n",
       "</style>\n",
       "<table border=\"1\" class=\"dataframe\">\n",
       "  <thead>\n",
       "    <tr style=\"text-align: right;\">\n",
       "      <th></th>\n",
       "      <th>domain</th>\n",
       "      <th>touch</th>\n",
       "      <th>timestamp</th>\n",
       "      <th>is_mql</th>\n",
       "      <th>touch_category</th>\n",
       "      <th>call_conversion_time</th>\n",
       "    </tr>\n",
       "  </thead>\n",
       "  <tbody>\n",
       "    <tr>\n",
       "      <th>0</th>\n",
       "      <td>.company.com</td>\n",
       "      <td>join_slack</td>\n",
       "      <td>2021-12-15 10:44:50.051</td>\n",
       "      <td>NaN</td>\n",
       "      <td>tracks</td>\n",
       "      <td>NaT</td>\n",
       "    </tr>\n",
       "    <tr>\n",
       "      <th>1</th>\n",
       "      <td>.company.com</td>\n",
       "      <td>form_submit</td>\n",
       "      <td>2021-12-15 10:46:43.004</td>\n",
       "      <td>NaN</td>\n",
       "      <td>signup</td>\n",
       "      <td>NaT</td>\n",
       "    </tr>\n",
       "    <tr>\n",
       "      <th>2</th>\n",
       "      <td>.company.com</td>\n",
       "      <td>join_slack</td>\n",
       "      <td>2021-12-15 10:49:25.341</td>\n",
       "      <td>NaN</td>\n",
       "      <td>tracks</td>\n",
       "      <td>NaT</td>\n",
       "    </tr>\n",
       "    <tr>\n",
       "      <th>31</th>\n",
       "      <td>100xbit.com</td>\n",
       "      <td>user_signed_up</td>\n",
       "      <td>2021-08-09 15:55:39.069</td>\n",
       "      <td>0.0</td>\n",
       "      <td>signup</td>\n",
       "      <td>NaT</td>\n",
       "    </tr>\n",
       "    <tr>\n",
       "      <th>36</th>\n",
       "      <td>100xbit.com</td>\n",
       "      <td>marketing_newsletter_opened</td>\n",
       "      <td>2021-09-07 23:07:40.000</td>\n",
       "      <td>0.0</td>\n",
       "      <td>marketing</td>\n",
       "      <td>NaT</td>\n",
       "    </tr>\n",
       "  </tbody>\n",
       "</table>\n",
       "</div>"
      ],
      "text/plain": [
       "          domain                        touch               timestamp  is_mql  \\\n",
       "0   .company.com                   join_slack 2021-12-15 10:44:50.051     NaN   \n",
       "1   .company.com                  form_submit 2021-12-15 10:46:43.004     NaN   \n",
       "2   .company.com                   join_slack 2021-12-15 10:49:25.341     NaN   \n",
       "31   100xbit.com               user_signed_up 2021-08-09 15:55:39.069     0.0   \n",
       "36   100xbit.com  marketing_newsletter_opened 2021-09-07 23:07:40.000     0.0   \n",
       "\n",
       "   touch_category call_conversion_time  \n",
       "0          tracks                  NaT  \n",
       "1          signup                  NaT  \n",
       "2          tracks                  NaT  \n",
       "31         signup                  NaT  \n",
       "36      marketing                  NaT  "
      ]
     },
     "execution_count": 11,
     "metadata": {},
     "output_type": "execute_result"
    }
   ],
   "source": [
    "touch_data_filtered.head()"
   ]
  },
  {
   "cell_type": "code",
   "execution_count": 12,
   "id": "01a87578",
   "metadata": {},
   "outputs": [
    {
     "data": {
      "text/plain": [
       "webapp                         67150\n",
       "marketing_newsletter_opened    41444\n",
       "docs                           17274\n",
       "marketing_campaign_opened       9599\n",
       "pricing                         4713\n",
       "blog                            3883\n",
       "user_signed_up                  2478\n",
       "form_submit                     1141\n",
       "join_slack                       735\n",
       "careers                          109\n",
       "Name: touch, dtype: int64"
      ]
     },
     "execution_count": 12,
     "metadata": {},
     "output_type": "execute_result"
    }
   ],
   "source": [
    "touch_data_filtered['touch'].value_counts()"
   ]
  },
  {
   "cell_type": "code",
   "execution_count": 13,
   "id": "533c8b43",
   "metadata": {},
   "outputs": [
    {
     "data": {
      "text/plain": [
       "148526"
      ]
     },
     "execution_count": 13,
     "metadata": {},
     "output_type": "execute_result"
    }
   ],
   "source": [
    "len(touch_data_filtered)"
   ]
  },
  {
   "cell_type": "code",
   "execution_count": 14,
   "id": "c47eef24",
   "metadata": {},
   "outputs": [
    {
     "data": {
      "text/html": [
       "<div>\n",
       "<style scoped>\n",
       "    .dataframe tbody tr th:only-of-type {\n",
       "        vertical-align: middle;\n",
       "    }\n",
       "\n",
       "    .dataframe tbody tr th {\n",
       "        vertical-align: top;\n",
       "    }\n",
       "\n",
       "    .dataframe thead th {\n",
       "        text-align: right;\n",
       "    }\n",
       "</style>\n",
       "<table border=\"1\" class=\"dataframe\">\n",
       "  <thead>\n",
       "    <tr style=\"text-align: right;\">\n",
       "      <th></th>\n",
       "      <th>domain</th>\n",
       "      <th>touch</th>\n",
       "      <th>timestamp</th>\n",
       "      <th>is_mql</th>\n",
       "      <th>touch_category</th>\n",
       "      <th>call_conversion_time</th>\n",
       "    </tr>\n",
       "  </thead>\n",
       "  <tbody>\n",
       "    <tr>\n",
       "      <th>1399</th>\n",
       "      <td>30lines.com</td>\n",
       "      <td>pricing</td>\n",
       "      <td>2021-12-07 10:12:01.727</td>\n",
       "      <td>1.0</td>\n",
       "      <td>tracks</td>\n",
       "      <td>2022-01-07 08:00:00</td>\n",
       "    </tr>\n",
       "    <tr>\n",
       "      <th>1400</th>\n",
       "      <td>30lines.com</td>\n",
       "      <td>docs</td>\n",
       "      <td>2021-12-07 10:14:36.445</td>\n",
       "      <td>1.0</td>\n",
       "      <td>tracks</td>\n",
       "      <td>2022-01-07 08:00:00</td>\n",
       "    </tr>\n",
       "    <tr>\n",
       "      <th>1401</th>\n",
       "      <td>30lines.com</td>\n",
       "      <td>webapp</td>\n",
       "      <td>2021-12-07 22:11:05.096</td>\n",
       "      <td>1.0</td>\n",
       "      <td>tracks</td>\n",
       "      <td>2022-01-07 08:00:00</td>\n",
       "    </tr>\n",
       "    <tr>\n",
       "      <th>1402</th>\n",
       "      <td>30lines.com</td>\n",
       "      <td>blog</td>\n",
       "      <td>2021-12-07 22:11:52.103</td>\n",
       "      <td>1.0</td>\n",
       "      <td>tracks</td>\n",
       "      <td>2022-01-07 08:00:00</td>\n",
       "    </tr>\n",
       "    <tr>\n",
       "      <th>1404</th>\n",
       "      <td>30lines.com</td>\n",
       "      <td>docs</td>\n",
       "      <td>2021-12-31 21:35:04.665</td>\n",
       "      <td>1.0</td>\n",
       "      <td>tracks</td>\n",
       "      <td>2022-01-07 08:00:00</td>\n",
       "    </tr>\n",
       "  </tbody>\n",
       "</table>\n",
       "</div>"
      ],
      "text/plain": [
       "           domain    touch               timestamp  is_mql touch_category  \\\n",
       "1399  30lines.com  pricing 2021-12-07 10:12:01.727     1.0         tracks   \n",
       "1400  30lines.com     docs 2021-12-07 10:14:36.445     1.0         tracks   \n",
       "1401  30lines.com   webapp 2021-12-07 22:11:05.096     1.0         tracks   \n",
       "1402  30lines.com     blog 2021-12-07 22:11:52.103     1.0         tracks   \n",
       "1404  30lines.com     docs 2021-12-31 21:35:04.665     1.0         tracks   \n",
       "\n",
       "     call_conversion_time  \n",
       "1399  2022-01-07 08:00:00  \n",
       "1400  2022-01-07 08:00:00  \n",
       "1401  2022-01-07 08:00:00  \n",
       "1402  2022-01-07 08:00:00  \n",
       "1404  2022-01-07 08:00:00  "
      ]
     },
     "execution_count": 14,
     "metadata": {},
     "output_type": "execute_result"
    }
   ],
   "source": [
    "touch_data_filtered.query(\"~call_conversion_time.isnull()\", engine='python').head()"
   ]
  },
  {
   "cell_type": "markdown",
   "id": "69226bf8",
   "metadata": {},
   "source": [
    "### Loading Datasets"
   ]
  },
  {
   "cell_type": "code",
   "execution_count": 15,
   "id": "fe08d662",
   "metadata": {},
   "outputs": [],
   "source": [
    "def get_days_diff(row: dict, default_dt, timestamp_col: str, conversion_timestamp_col: str) -> int:\n",
    "    if pd.isnull(row[conversion_timestamp_col]):\n",
    "        return (default_dt - row[timestamp_col]).days\n",
    "    else:\n",
    "        return (row[conversion_timestamp_col] - row[timestamp_col]).days\n",
    "\n",
    "def keep_record(row):\n",
    "    if row['user_signed_up'] + row['form_submit'] == 0:\n",
    "        return False\n",
    "    elif sum([value for key, value in row.items() if key not in ['label', 'days_since_first_seen']]) > 0:\n",
    "        return True\n",
    "    else:\n",
    "        return False\n",
    "\n",
    "def get_feature_data(touch_data_df: pd.DataFrame):\n",
    "    domain_data = touch_data_df.groupby(['domain', 'is_mql']).agg({\"timestamp\": \"min\", \n",
    "                                                                   'call_conversion_time': \"max\"}).reset_index().set_index(\"domain\")\n",
    "    max_ts = domain_data['timestamp'].max()\n",
    "    domain_data[\"days_since_first_seen\"] = domain_data.apply(lambda row: get_days_diff(row, max_ts, 'timestamp', 'call_conversion_time'), axis=1)\n",
    "    domain_data['label'] = domain_data['call_conversion_time'].apply(lambda ct: 0 if pd.isna(ct) else 1)\n",
    "    touch_counts_df = pd.crosstab(touch_data_df['domain'], touch_data_df['touch'])\n",
    "    features_df = touch_counts_df.merge(domain_data[[\"is_mql\", \"days_since_first_seen\", \"label\"]], left_index=True, right_index=True)\n",
    "    #return features_df\n",
    "    features_df['keep_row'] = features_df.apply(keep_record, axis=1)\n",
    "    return features_df.query(\"keep_row\").drop(columns=['keep_row'])"
   ]
  },
  {
   "cell_type": "code",
   "execution_count": 16,
   "id": "7640c935",
   "metadata": {},
   "outputs": [],
   "source": [
    "features_data = get_feature_data(touch_data_filtered)"
   ]
  },
  {
   "cell_type": "code",
   "execution_count": 17,
   "id": "6c93a386",
   "metadata": {},
   "outputs": [
    {
     "data": {
      "text/html": [
       "<div>\n",
       "<style scoped>\n",
       "    .dataframe tbody tr th:only-of-type {\n",
       "        vertical-align: middle;\n",
       "    }\n",
       "\n",
       "    .dataframe tbody tr th {\n",
       "        vertical-align: top;\n",
       "    }\n",
       "\n",
       "    .dataframe thead th {\n",
       "        text-align: right;\n",
       "    }\n",
       "</style>\n",
       "<table border=\"1\" class=\"dataframe\">\n",
       "  <thead>\n",
       "    <tr style=\"text-align: right;\">\n",
       "      <th></th>\n",
       "      <th>blog</th>\n",
       "      <th>careers</th>\n",
       "      <th>docs</th>\n",
       "      <th>form_submit</th>\n",
       "      <th>join_slack</th>\n",
       "      <th>marketing_campaign_opened</th>\n",
       "      <th>marketing_newsletter_opened</th>\n",
       "      <th>pricing</th>\n",
       "      <th>user_signed_up</th>\n",
       "      <th>webapp</th>\n",
       "      <th>is_mql</th>\n",
       "      <th>days_since_first_seen</th>\n",
       "      <th>label</th>\n",
       "    </tr>\n",
       "    <tr>\n",
       "      <th>domain</th>\n",
       "      <th></th>\n",
       "      <th></th>\n",
       "      <th></th>\n",
       "      <th></th>\n",
       "      <th></th>\n",
       "      <th></th>\n",
       "      <th></th>\n",
       "      <th></th>\n",
       "      <th></th>\n",
       "      <th></th>\n",
       "      <th></th>\n",
       "      <th></th>\n",
       "      <th></th>\n",
       "    </tr>\n",
       "  </thead>\n",
       "  <tbody>\n",
       "    <tr>\n",
       "      <th>100xbit.com</th>\n",
       "      <td>0</td>\n",
       "      <td>0</td>\n",
       "      <td>0</td>\n",
       "      <td>0</td>\n",
       "      <td>0</td>\n",
       "      <td>0</td>\n",
       "      <td>1</td>\n",
       "      <td>0</td>\n",
       "      <td>1</td>\n",
       "      <td>0</td>\n",
       "      <td>0.0</td>\n",
       "      <td>177</td>\n",
       "      <td>0</td>\n",
       "    </tr>\n",
       "    <tr>\n",
       "      <th>101labs.org</th>\n",
       "      <td>0</td>\n",
       "      <td>0</td>\n",
       "      <td>0</td>\n",
       "      <td>0</td>\n",
       "      <td>0</td>\n",
       "      <td>0</td>\n",
       "      <td>0</td>\n",
       "      <td>0</td>\n",
       "      <td>1</td>\n",
       "      <td>0</td>\n",
       "      <td>0.0</td>\n",
       "      <td>239</td>\n",
       "      <td>0</td>\n",
       "    </tr>\n",
       "    <tr>\n",
       "      <th>10minuteschool.com</th>\n",
       "      <td>1</td>\n",
       "      <td>0</td>\n",
       "      <td>4</td>\n",
       "      <td>1</td>\n",
       "      <td>0</td>\n",
       "      <td>2</td>\n",
       "      <td>37</td>\n",
       "      <td>3</td>\n",
       "      <td>1</td>\n",
       "      <td>42</td>\n",
       "      <td>1.0</td>\n",
       "      <td>122</td>\n",
       "      <td>0</td>\n",
       "    </tr>\n",
       "    <tr>\n",
       "      <th>11td.com</th>\n",
       "      <td>0</td>\n",
       "      <td>0</td>\n",
       "      <td>0</td>\n",
       "      <td>0</td>\n",
       "      <td>0</td>\n",
       "      <td>0</td>\n",
       "      <td>0</td>\n",
       "      <td>1</td>\n",
       "      <td>1</td>\n",
       "      <td>3</td>\n",
       "      <td>0.0</td>\n",
       "      <td>220</td>\n",
       "      <td>0</td>\n",
       "    </tr>\n",
       "    <tr>\n",
       "      <th>123980.com</th>\n",
       "      <td>7</td>\n",
       "      <td>0</td>\n",
       "      <td>16</td>\n",
       "      <td>1</td>\n",
       "      <td>0</td>\n",
       "      <td>0</td>\n",
       "      <td>0</td>\n",
       "      <td>13</td>\n",
       "      <td>0</td>\n",
       "      <td>26</td>\n",
       "      <td>0.0</td>\n",
       "      <td>104</td>\n",
       "      <td>0</td>\n",
       "    </tr>\n",
       "  </tbody>\n",
       "</table>\n",
       "</div>"
      ],
      "text/plain": [
       "                    blog  careers  docs  form_submit  join_slack  \\\n",
       "domain                                                             \n",
       "100xbit.com            0        0     0            0           0   \n",
       "101labs.org            0        0     0            0           0   \n",
       "10minuteschool.com     1        0     4            1           0   \n",
       "11td.com               0        0     0            0           0   \n",
       "123980.com             7        0    16            1           0   \n",
       "\n",
       "                    marketing_campaign_opened  marketing_newsletter_opened  \\\n",
       "domain                                                                       \n",
       "100xbit.com                                 0                            1   \n",
       "101labs.org                                 0                            0   \n",
       "10minuteschool.com                          2                           37   \n",
       "11td.com                                    0                            0   \n",
       "123980.com                                  0                            0   \n",
       "\n",
       "                    pricing  user_signed_up  webapp  is_mql  \\\n",
       "domain                                                        \n",
       "100xbit.com               0               1       0     0.0   \n",
       "101labs.org               0               1       0     0.0   \n",
       "10minuteschool.com        3               1      42     1.0   \n",
       "11td.com                  1               1       3     0.0   \n",
       "123980.com               13               0      26     0.0   \n",
       "\n",
       "                    days_since_first_seen  label  \n",
       "domain                                            \n",
       "100xbit.com                           177      0  \n",
       "101labs.org                           239      0  \n",
       "10minuteschool.com                    122      0  \n",
       "11td.com                              220      0  \n",
       "123980.com                            104      0  "
      ]
     },
     "execution_count": 17,
     "metadata": {},
     "output_type": "execute_result"
    }
   ],
   "source": [
    "features_data.head()"
   ]
  },
  {
   "cell_type": "markdown",
   "id": "b0fbbcc9",
   "metadata": {},
   "source": [
    "### Checking data distribution"
   ]
  },
  {
   "cell_type": "code",
   "execution_count": 18,
   "id": "949708b3",
   "metadata": {},
   "outputs": [
    {
     "data": {
      "text/plain": [
       "0    2964\n",
       "1     235\n",
       "Name: label, dtype: int64"
      ]
     },
     "execution_count": 18,
     "metadata": {},
     "output_type": "execute_result"
    }
   ],
   "source": [
    "features_data['label'].value_counts()"
   ]
  },
  {
   "cell_type": "code",
   "execution_count": 19,
   "id": "da90c33d",
   "metadata": {},
   "outputs": [
    {
     "data": {
      "text/plain": [
       "0    0.92654\n",
       "1    0.07346\n",
       "Name: label, dtype: float64"
      ]
     },
     "execution_count": 19,
     "metadata": {},
     "output_type": "execute_result"
    }
   ],
   "source": [
    "features_data['label'].value_counts(normalize=True)"
   ]
  },
  {
   "cell_type": "code",
   "execution_count": 20,
   "id": "9f3c05a5",
   "metadata": {},
   "outputs": [
    {
     "data": {
      "text/html": [
       "<div>\n",
       "<style scoped>\n",
       "    .dataframe tbody tr th:only-of-type {\n",
       "        vertical-align: middle;\n",
       "    }\n",
       "\n",
       "    .dataframe tbody tr th {\n",
       "        vertical-align: top;\n",
       "    }\n",
       "\n",
       "    .dataframe thead th {\n",
       "        text-align: right;\n",
       "    }\n",
       "</style>\n",
       "<table border=\"1\" class=\"dataframe\">\n",
       "  <thead>\n",
       "    <tr style=\"text-align: right;\">\n",
       "      <th></th>\n",
       "      <th>blog</th>\n",
       "      <th>careers</th>\n",
       "      <th>docs</th>\n",
       "      <th>form_submit</th>\n",
       "      <th>join_slack</th>\n",
       "      <th>marketing_campaign_opened</th>\n",
       "      <th>marketing_newsletter_opened</th>\n",
       "      <th>pricing</th>\n",
       "      <th>user_signed_up</th>\n",
       "      <th>webapp</th>\n",
       "      <th>is_mql</th>\n",
       "      <th>days_since_first_seen</th>\n",
       "      <th>label</th>\n",
       "    </tr>\n",
       "    <tr>\n",
       "      <th>domain</th>\n",
       "      <th></th>\n",
       "      <th></th>\n",
       "      <th></th>\n",
       "      <th></th>\n",
       "      <th></th>\n",
       "      <th></th>\n",
       "      <th></th>\n",
       "      <th></th>\n",
       "      <th></th>\n",
       "      <th></th>\n",
       "      <th></th>\n",
       "      <th></th>\n",
       "      <th></th>\n",
       "    </tr>\n",
       "  </thead>\n",
       "  <tbody>\n",
       "    <tr>\n",
       "      <th>100xbit.com</th>\n",
       "      <td>0</td>\n",
       "      <td>0</td>\n",
       "      <td>0</td>\n",
       "      <td>0</td>\n",
       "      <td>0</td>\n",
       "      <td>0</td>\n",
       "      <td>1</td>\n",
       "      <td>0</td>\n",
       "      <td>1</td>\n",
       "      <td>0</td>\n",
       "      <td>0.0</td>\n",
       "      <td>177</td>\n",
       "      <td>0</td>\n",
       "    </tr>\n",
       "    <tr>\n",
       "      <th>101labs.org</th>\n",
       "      <td>0</td>\n",
       "      <td>0</td>\n",
       "      <td>0</td>\n",
       "      <td>0</td>\n",
       "      <td>0</td>\n",
       "      <td>0</td>\n",
       "      <td>0</td>\n",
       "      <td>0</td>\n",
       "      <td>1</td>\n",
       "      <td>0</td>\n",
       "      <td>0.0</td>\n",
       "      <td>239</td>\n",
       "      <td>0</td>\n",
       "    </tr>\n",
       "    <tr>\n",
       "      <th>10minuteschool.com</th>\n",
       "      <td>1</td>\n",
       "      <td>0</td>\n",
       "      <td>4</td>\n",
       "      <td>1</td>\n",
       "      <td>0</td>\n",
       "      <td>2</td>\n",
       "      <td>37</td>\n",
       "      <td>3</td>\n",
       "      <td>1</td>\n",
       "      <td>42</td>\n",
       "      <td>1.0</td>\n",
       "      <td>122</td>\n",
       "      <td>0</td>\n",
       "    </tr>\n",
       "    <tr>\n",
       "      <th>11td.com</th>\n",
       "      <td>0</td>\n",
       "      <td>0</td>\n",
       "      <td>0</td>\n",
       "      <td>0</td>\n",
       "      <td>0</td>\n",
       "      <td>0</td>\n",
       "      <td>0</td>\n",
       "      <td>1</td>\n",
       "      <td>1</td>\n",
       "      <td>3</td>\n",
       "      <td>0.0</td>\n",
       "      <td>220</td>\n",
       "      <td>0</td>\n",
       "    </tr>\n",
       "    <tr>\n",
       "      <th>123980.com</th>\n",
       "      <td>7</td>\n",
       "      <td>0</td>\n",
       "      <td>16</td>\n",
       "      <td>1</td>\n",
       "      <td>0</td>\n",
       "      <td>0</td>\n",
       "      <td>0</td>\n",
       "      <td>13</td>\n",
       "      <td>0</td>\n",
       "      <td>26</td>\n",
       "      <td>0.0</td>\n",
       "      <td>104</td>\n",
       "      <td>0</td>\n",
       "    </tr>\n",
       "  </tbody>\n",
       "</table>\n",
       "</div>"
      ],
      "text/plain": [
       "                    blog  careers  docs  form_submit  join_slack  \\\n",
       "domain                                                             \n",
       "100xbit.com            0        0     0            0           0   \n",
       "101labs.org            0        0     0            0           0   \n",
       "10minuteschool.com     1        0     4            1           0   \n",
       "11td.com               0        0     0            0           0   \n",
       "123980.com             7        0    16            1           0   \n",
       "\n",
       "                    marketing_campaign_opened  marketing_newsletter_opened  \\\n",
       "domain                                                                       \n",
       "100xbit.com                                 0                            1   \n",
       "101labs.org                                 0                            0   \n",
       "10minuteschool.com                          2                           37   \n",
       "11td.com                                    0                            0   \n",
       "123980.com                                  0                            0   \n",
       "\n",
       "                    pricing  user_signed_up  webapp  is_mql  \\\n",
       "domain                                                        \n",
       "100xbit.com               0               1       0     0.0   \n",
       "101labs.org               0               1       0     0.0   \n",
       "10minuteschool.com        3               1      42     1.0   \n",
       "11td.com                  1               1       3     0.0   \n",
       "123980.com               13               0      26     0.0   \n",
       "\n",
       "                    days_since_first_seen  label  \n",
       "domain                                            \n",
       "100xbit.com                           177      0  \n",
       "101labs.org                           239      0  \n",
       "10minuteschool.com                    122      0  \n",
       "11td.com                              220      0  \n",
       "123980.com                            104      0  "
      ]
     },
     "execution_count": 20,
     "metadata": {},
     "output_type": "execute_result"
    }
   ],
   "source": [
    "features_data.head()"
   ]
  },
  {
   "cell_type": "code",
   "execution_count": 21,
   "id": "d46e618a",
   "metadata": {},
   "outputs": [
    {
     "name": "stdout",
     "output_type": "stream",
     "text": [
      "No:of distinct events for converting users\n"
     ]
    },
    {
     "data": {
      "text/plain": [
       "count    235.000000\n",
       "mean       5.123404\n",
       "std        2.125769\n",
       "min        1.000000\n",
       "25%        3.000000\n",
       "50%        5.000000\n",
       "75%        7.000000\n",
       "max       10.000000\n",
       "dtype: float64"
      ]
     },
     "execution_count": 21,
     "metadata": {},
     "output_type": "execute_result"
    }
   ],
   "source": [
    "print(\"No:of distinct events for converting users\")\n",
    "features_data.query(\"label==1\").drop(columns=[\"days_since_first_seen\", \"label\"]).astype(bool).sum(axis=1).describe()"
   ]
  },
  {
   "cell_type": "code",
   "execution_count": 22,
   "id": "1206907a",
   "metadata": {},
   "outputs": [
    {
     "name": "stdout",
     "output_type": "stream",
     "text": [
      "No:of distinct events for non-converting users\n"
     ]
    },
    {
     "data": {
      "text/plain": [
       "count    2964.000000\n",
       "mean        4.304656\n",
       "std         1.997796\n",
       "min         1.000000\n",
       "25%         3.000000\n",
       "50%         4.000000\n",
       "75%         6.000000\n",
       "max        11.000000\n",
       "dtype: float64"
      ]
     },
     "execution_count": 22,
     "metadata": {},
     "output_type": "execute_result"
    }
   ],
   "source": [
    "print(\"No:of distinct events for non-converting users\")\n",
    "features_data.query(\"label==0\").drop(columns=[\"days_since_first_seen\", \"label\"]).astype(bool).sum(axis=1).describe()"
   ]
  },
  {
   "cell_type": "code",
   "execution_count": 23,
   "id": "77687955",
   "metadata": {},
   "outputs": [
    {
     "name": "stdout",
     "output_type": "stream",
     "text": [
      "No:of total events for converting users\n"
     ]
    },
    {
     "data": {
      "text/plain": [
       "count    235.000000\n",
       "mean      29.174468\n",
       "std       46.064979\n",
       "min        1.000000\n",
       "25%        6.000000\n",
       "50%       12.000000\n",
       "75%       30.500000\n",
       "max      356.000000\n",
       "dtype: float64"
      ]
     },
     "execution_count": 23,
     "metadata": {},
     "output_type": "execute_result"
    }
   ],
   "source": [
    "print(\"No:of total events for converting users\")\n",
    "features_data.query(\"label==1\").drop(columns=[\"days_since_first_seen\", \"label\"]).sum(axis=1).describe()"
   ]
  },
  {
   "cell_type": "code",
   "execution_count": 24,
   "id": "3d0ec488",
   "metadata": {},
   "outputs": [
    {
     "name": "stdout",
     "output_type": "stream",
     "text": [
      "No:of total events for non-converting users\n"
     ]
    },
    {
     "data": {
      "text/plain": [
       "count    2964.000000\n",
       "mean       31.313765\n",
       "std        72.394432\n",
       "min         1.000000\n",
       "25%         5.000000\n",
       "50%        11.000000\n",
       "75%        28.000000\n",
       "max      1512.000000\n",
       "dtype: float64"
      ]
     },
     "execution_count": 24,
     "metadata": {},
     "output_type": "execute_result"
    }
   ],
   "source": [
    "print(\"No:of total events for non-converting users\")\n",
    "features_data.query(\"label==0\").drop(columns=[\"days_since_first_seen\", \"label\"]).sum(axis=1).describe()"
   ]
  },
  {
   "cell_type": "code",
   "execution_count": 25,
   "id": "3f5accbf",
   "metadata": {},
   "outputs": [
    {
     "name": "stdout",
     "output_type": "stream",
     "text": [
      "Days since first seen to conversion (or non-conversion)\n"
     ]
    },
    {
     "data": {
      "text/html": [
       "<div>\n",
       "<style scoped>\n",
       "    .dataframe tbody tr th:only-of-type {\n",
       "        vertical-align: middle;\n",
       "    }\n",
       "\n",
       "    .dataframe tbody tr th {\n",
       "        vertical-align: top;\n",
       "    }\n",
       "\n",
       "    .dataframe thead tr th {\n",
       "        text-align: left;\n",
       "    }\n",
       "\n",
       "    .dataframe thead tr:last-of-type th {\n",
       "        text-align: right;\n",
       "    }\n",
       "</style>\n",
       "<table border=\"1\" class=\"dataframe\">\n",
       "  <thead>\n",
       "    <tr>\n",
       "      <th></th>\n",
       "      <th colspan=\"4\" halign=\"left\">days_since_first_seen</th>\n",
       "    </tr>\n",
       "    <tr>\n",
       "      <th></th>\n",
       "      <th>min</th>\n",
       "      <th>max</th>\n",
       "      <th>mean</th>\n",
       "      <th>&lt;lambda_0&gt;</th>\n",
       "    </tr>\n",
       "    <tr>\n",
       "      <th>label</th>\n",
       "      <th></th>\n",
       "      <th></th>\n",
       "      <th></th>\n",
       "      <th></th>\n",
       "    </tr>\n",
       "  </thead>\n",
       "  <tbody>\n",
       "    <tr>\n",
       "      <th>0</th>\n",
       "      <td>0</td>\n",
       "      <td>247</td>\n",
       "      <td>117.653171</td>\n",
       "      <td>106</td>\n",
       "    </tr>\n",
       "    <tr>\n",
       "      <th>1</th>\n",
       "      <td>0</td>\n",
       "      <td>220</td>\n",
       "      <td>26.404255</td>\n",
       "      <td>12</td>\n",
       "    </tr>\n",
       "  </tbody>\n",
       "</table>\n",
       "</div>"
      ],
      "text/plain": [
       "      days_since_first_seen                            \n",
       "                        min  max        mean <lambda_0>\n",
       "label                                                  \n",
       "0                         0  247  117.653171        106\n",
       "1                         0  220   26.404255         12"
      ]
     },
     "execution_count": 25,
     "metadata": {},
     "output_type": "execute_result"
    }
   ],
   "source": [
    "print(\"Days since first seen to conversion (or non-conversion)\")\n",
    "median = lambda x: np.percentile(x,50)\n",
    "features_data.groupby(\"label\").agg({\"days_since_first_seen\": [\"min\",\"max\",\"mean\", median]})"
   ]
  },
  {
   "cell_type": "markdown",
   "id": "8d6e0131",
   "metadata": {},
   "source": [
    "## Modeling"
   ]
  },
  {
   "cell_type": "code",
   "execution_count": 26,
   "id": "f2041b81",
   "metadata": {},
   "outputs": [],
   "source": [
    "def get_classification_metrics(y_true, y_pred_proba, th=0.5, as_dict=True):\n",
    "    precision, recall, f1, _ = precision_recall_fscore_support(y_true, np.where(y_pred_proba>th,1,0))\n",
    "    precision = precision[1]\n",
    "    recall = recall[1]\n",
    "    f1 = f1[1]\n",
    "    roc_auc = roc_auc_score(y_true, y_pred_proba)\n",
    "    pr_auc = average_precision_score(y_true, y_pred_proba)\n",
    "    metrics = {\"precision\": precision, \"recall\": recall, \"f1\": f1, \"roc_auc\": roc_auc, 'pr_auc': pr_auc}\n",
    "    if as_dict:\n",
    "        return metrics\n",
    "    else:\n",
    "        return pd.DataFrame.from_dict(metrics, orient='index')\n",
    "\n",
    "def get_best_th(y_true, y_pred_proba):\n",
    "    \"\"\"\n",
    "    Returns the threshold that maximizes f1 score based on y_true and y_pred_proba\n",
    "    Also returns the metrics at the threshold\n",
    "    y_true: Array of 1s and 0s. True labels\n",
    "    y_pred_proba: Array of predicted probabilities\n",
    "    \"\"\"\n",
    "    best_f1 = 0.0\n",
    "    best_th = 0.0\n",
    "\n",
    "    for th in np.arange(0,1,0.01):\n",
    "        f1 = f1_score(y_true, np.where(y_pred_proba>th,1,0))\n",
    "        if f1 >= best_f1:\n",
    "            best_th = th\n",
    "            best_f1 = f1\n",
    "            \n",
    "    best_metrics = get_classification_metrics(y_true, y_pred_proba, best_th)\n",
    "    return best_metrics, best_th\n",
    "\n",
    "def positives_at_decile(y_true, y_pred_proba, return_df=True):\n",
    "    decile_counts = {}\n",
    "    for th_low in np.arange(0, 1, 0.1):\n",
    "        decile_counts[th_low] = (y_true[(th_low<=y_pred_proba)&(y_pred_proba<(th_low+0.1))].value_counts().to_dict())\n",
    "    if return_df:\n",
    "        df = pd.DataFrame.from_dict(decile_counts, orient='index').fillna(0).astype(int).sort_index()\n",
    "        df[\"1_z\"] = df.apply(lambda row: np.round(row[1]/(row[0] + row[1]),4), axis=1)\n",
    "        return df\n",
    "    else:\n",
    "        return decile_counts"
   ]
  },
  {
   "cell_type": "code",
   "execution_count": 27,
   "id": "66eaf6d4",
   "metadata": {},
   "outputs": [
    {
     "data": {
      "text/html": [
       "<div>\n",
       "<style scoped>\n",
       "    .dataframe tbody tr th:only-of-type {\n",
       "        vertical-align: middle;\n",
       "    }\n",
       "\n",
       "    .dataframe tbody tr th {\n",
       "        vertical-align: top;\n",
       "    }\n",
       "\n",
       "    .dataframe thead th {\n",
       "        text-align: right;\n",
       "    }\n",
       "</style>\n",
       "<table border=\"1\" class=\"dataframe\">\n",
       "  <thead>\n",
       "    <tr style=\"text-align: right;\">\n",
       "      <th>label</th>\n",
       "      <th>0</th>\n",
       "      <th>1</th>\n",
       "    </tr>\n",
       "    <tr>\n",
       "      <th>is_mql</th>\n",
       "      <th></th>\n",
       "      <th></th>\n",
       "    </tr>\n",
       "  </thead>\n",
       "  <tbody>\n",
       "    <tr>\n",
       "      <th>0.0</th>\n",
       "      <td>2229</td>\n",
       "      <td>98</td>\n",
       "    </tr>\n",
       "    <tr>\n",
       "      <th>1.0</th>\n",
       "      <td>735</td>\n",
       "      <td>137</td>\n",
       "    </tr>\n",
       "  </tbody>\n",
       "</table>\n",
       "</div>"
      ],
      "text/plain": [
       "label      0    1\n",
       "is_mql           \n",
       "0.0     2229   98\n",
       "1.0      735  137"
      ]
     },
     "execution_count": 27,
     "metadata": {},
     "output_type": "execute_result"
    }
   ],
   "source": [
    "pd.crosstab(features_data[\"is_mql\"], features_data[\"label\"])"
   ]
  },
  {
   "cell_type": "markdown",
   "id": "8b1aabb4",
   "metadata": {},
   "source": [
    " ~40% of conversions are non-mql"
   ]
  },
  {
   "cell_type": "code",
   "execution_count": 28,
   "id": "5b922e7b",
   "metadata": {},
   "outputs": [
    {
     "name": "stdout",
     "output_type": "stream",
     "text": [
      "Splitting the data into train-test data at ratio of 33% for test.\n"
     ]
    }
   ],
   "source": [
    "logger.info(\"Splitting the data into train-test data at ratio of 33% for test.\")\n",
    "X_train, X_test, y_train, y_test = train_test_split(features_data.drop(columns=[\"label\"]), \n",
    "                                                    features_data[\"label\"],\n",
    "                                                    test_size=0.33, \n",
    "                                                    random_state=42,\n",
    "                                                    stratify=features_data[[\"label\", \"is_mql\"]])\n"
   ]
  },
  {
   "cell_type": "code",
   "execution_count": 29,
   "id": "26ae520d",
   "metadata": {},
   "outputs": [
    {
     "data": {
      "text/plain": [
       "0.0    1559\n",
       "1.0     584\n",
       "Name: is_mql, dtype: int64"
      ]
     },
     "execution_count": 29,
     "metadata": {},
     "output_type": "execute_result"
    }
   ],
   "source": [
    "X_train[\"is_mql\"].value_counts()"
   ]
  },
  {
   "cell_type": "code",
   "execution_count": 30,
   "id": "6bc7b44b",
   "metadata": {},
   "outputs": [
    {
     "data": {
      "text/plain": [
       "0.0    768\n",
       "1.0    288\n",
       "Name: is_mql, dtype: int64"
      ]
     },
     "execution_count": 30,
     "metadata": {},
     "output_type": "execute_result"
    }
   ],
   "source": [
    "X_test[\"is_mql\"].value_counts()"
   ]
  },
  {
   "cell_type": "markdown",
   "id": "4a73a435",
   "metadata": {},
   "source": [
    "### Logistic Regression"
   ]
  },
  {
   "cell_type": "code",
   "execution_count": 31,
   "id": "9dcc798a",
   "metadata": {},
   "outputs": [],
   "source": [
    "from IPython.display import display"
   ]
  },
  {
   "cell_type": "code",
   "execution_count": 32,
   "id": "a948b460",
   "metadata": {},
   "outputs": [],
   "source": [
    "def run_logistic_regression(X_train: pd.DataFrame, X_test: pd.DataFrame, y_train: pd.Series, y_test: pd.Series, l1_penalty: float):\n",
    "    logging.info(f\"Building logistic regression with C value {l1_penalty}\")\n",
    "    logistic = LogisticRegression(max_iter=100, solver='liblinear', penalty='l1', C=l1_penalty)\n",
    "    logistic.fit(X_train, y_train)\n",
    "    y_pred = logistic.predict_proba(X_test)\n",
    "\n",
    "    best_metrics, best_th = get_best_th(y_test, y_pred[:, 1] )\n",
    "    logger.info(f\"Threshold that gives highest f1-score: {best_th:.2f}. Corresponding metrics:\")\n",
    "    logger.info([f\"{metric}: {best_metrics[metric]:.2f}\" for metric in metrics_list])\n",
    "    print(\"Confusion Matrix:\")\n",
    "    dsp = ConfusionMatrixDisplay(confusion_matrix(y_test, np.where(y_pred[:,1]>=best_th,1,0)), display_labels=logistic.classes_)\n",
    "    dsp.plot()\n",
    "    plt.show()\n",
    "    print(\"\\nDecile counts:\")\n",
    "    decile_counts_test_df = positives_at_decile(y_test, y_pred[:,1])\n",
    "    display(decile_counts_test_df)\n",
    "    logistic_coefs = pd.DataFrame.from_dict(dict(zip(list(X_train),np.round(logistic.coef_, 3)[0])), orient=\"index\").reset_index()\n",
    "    logistic_coefs.columns = [\"event\", \"coef\"]\n",
    "    logger.info(f\"\\nConstant: {logistic.intercept_[0]:.4f}\")\n",
    "    logging.info(logistic_coefs.sort_values(\"coef\", ascending=False))\n",
    "    response = {\"model\": logistic, \"metrics\": best_metrics, \"threshold\": best_th}\n",
    "    return response"
   ]
  },
  {
   "cell_type": "code",
   "execution_count": 33,
   "id": "2c90f948",
   "metadata": {},
   "outputs": [
    {
     "name": "stdout",
     "output_type": "stream",
     "text": [
      "Building logistic regression with C value 0.1\n",
      "Threshold that gives highest f1-score: 0.34. Corresponding metrics:\n",
      "['roc_auc: 0.94', 'f1: 0.65', 'precision: 0.62', 'recall: 0.69', 'pr_auc: 0.59']\n",
      "Confusion Matrix:\n"
     ]
    },
    {
     "data": {
      "image/png": "[encoded data removed]",
      "text/plain": [
       "<Figure size 432x288 with 2 Axes>"
      ]
     },
     "metadata": {
      "needs_background": "light"
     },
     "output_type": "display_data"
    },
    {
     "name": "stdout",
     "output_type": "stream",
     "text": [
      "\n",
      "Decile counts:\n"
     ]
    },
    {
     "data": {
      "text/html": [
       "<div>\n",
       "<style scoped>\n",
       "    .dataframe tbody tr th:only-of-type {\n",
       "        vertical-align: middle;\n",
       "    }\n",
       "\n",
       "    .dataframe tbody tr th {\n",
       "        vertical-align: top;\n",
       "    }\n",
       "\n",
       "    .dataframe thead th {\n",
       "        text-align: right;\n",
       "    }\n",
       "</style>\n",
       "<table border=\"1\" class=\"dataframe\">\n",
       "  <thead>\n",
       "    <tr style=\"text-align: right;\">\n",
       "      <th></th>\n",
       "      <th>0</th>\n",
       "      <th>1</th>\n",
       "      <th>1_z</th>\n",
       "    </tr>\n",
       "  </thead>\n",
       "  <tbody>\n",
       "    <tr>\n",
       "      <th>0.0</th>\n",
       "      <td>845</td>\n",
       "      <td>7</td>\n",
       "      <td>0.0082</td>\n",
       "    </tr>\n",
       "    <tr>\n",
       "      <th>0.1</th>\n",
       "      <td>62</td>\n",
       "      <td>7</td>\n",
       "      <td>0.1014</td>\n",
       "    </tr>\n",
       "    <tr>\n",
       "      <th>0.2</th>\n",
       "      <td>29</td>\n",
       "      <td>8</td>\n",
       "      <td>0.2162</td>\n",
       "    </tr>\n",
       "    <tr>\n",
       "      <th>0.3</th>\n",
       "      <td>18</td>\n",
       "      <td>8</td>\n",
       "      <td>0.3077</td>\n",
       "    </tr>\n",
       "    <tr>\n",
       "      <th>0.4</th>\n",
       "      <td>5</td>\n",
       "      <td>9</td>\n",
       "      <td>0.6429</td>\n",
       "    </tr>\n",
       "    <tr>\n",
       "      <th>0.5</th>\n",
       "      <td>7</td>\n",
       "      <td>13</td>\n",
       "      <td>0.6500</td>\n",
       "    </tr>\n",
       "    <tr>\n",
       "      <th>0.6</th>\n",
       "      <td>4</td>\n",
       "      <td>8</td>\n",
       "      <td>0.6667</td>\n",
       "    </tr>\n",
       "    <tr>\n",
       "      <th>0.7</th>\n",
       "      <td>3</td>\n",
       "      <td>9</td>\n",
       "      <td>0.7500</td>\n",
       "    </tr>\n",
       "    <tr>\n",
       "      <th>0.8</th>\n",
       "      <td>5</td>\n",
       "      <td>5</td>\n",
       "      <td>0.5000</td>\n",
       "    </tr>\n",
       "    <tr>\n",
       "      <th>0.9</th>\n",
       "      <td>1</td>\n",
       "      <td>3</td>\n",
       "      <td>0.7500</td>\n",
       "    </tr>\n",
       "  </tbody>\n",
       "</table>\n",
       "</div>"
      ],
      "text/plain": [
       "       0   1     1_z\n",
       "0.0  845   7  0.0082\n",
       "0.1   62   7  0.1014\n",
       "0.2   29   8  0.2162\n",
       "0.3   18   8  0.3077\n",
       "0.4    5   9  0.6429\n",
       "0.5    7  13  0.6500\n",
       "0.6    4   8  0.6667\n",
       "0.7    3   9  0.7500\n",
       "0.8    5   5  0.5000\n",
       "0.9    1   3  0.7500"
      ]
     },
     "metadata": {},
     "output_type": "display_data"
    },
    {
     "name": "stdout",
     "output_type": "stream",
     "text": [
      "\n",
      "Constant: -0.5268\n",
      "                          event   coef\n",
      "10                       is_mql  0.888\n",
      "3                   form_submit  0.474\n",
      "7                       pricing  0.358\n",
      "6   marketing_newsletter_opened  0.052\n",
      "9                        webapp  0.013\n",
      "0                          blog  0.000\n",
      "1                       careers  0.000\n",
      "4                    join_slack  0.000\n",
      "5     marketing_campaign_opened  0.000\n",
      "11        days_since_first_seen -0.047\n",
      "2                          docs -0.101\n",
      "8                user_signed_up -0.708\n"
     ]
    }
   ],
   "source": [
    "all_users_response_with_mql_flag = run_logistic_regression(X_train, X_test, y_train, y_test, l1_penalty)"
   ]
  },
  {
   "cell_type": "code",
   "execution_count": 34,
   "id": "70b640ad",
   "metadata": {},
   "outputs": [
    {
     "data": {
      "text/html": [
       "<div>\n",
       "<style scoped>\n",
       "    .dataframe tbody tr th:only-of-type {\n",
       "        vertical-align: middle;\n",
       "    }\n",
       "\n",
       "    .dataframe tbody tr th {\n",
       "        vertical-align: top;\n",
       "    }\n",
       "\n",
       "    .dataframe thead th {\n",
       "        text-align: right;\n",
       "    }\n",
       "</style>\n",
       "<table border=\"1\" class=\"dataframe\">\n",
       "  <thead>\n",
       "    <tr style=\"text-align: right;\">\n",
       "      <th></th>\n",
       "      <th>count</th>\n",
       "      <th>mean</th>\n",
       "      <th>std</th>\n",
       "      <th>min</th>\n",
       "      <th>25%</th>\n",
       "      <th>50%</th>\n",
       "      <th>75%</th>\n",
       "      <th>max</th>\n",
       "    </tr>\n",
       "    <tr>\n",
       "      <th>label</th>\n",
       "      <th></th>\n",
       "      <th></th>\n",
       "      <th></th>\n",
       "      <th></th>\n",
       "      <th></th>\n",
       "      <th></th>\n",
       "      <th></th>\n",
       "      <th></th>\n",
       "    </tr>\n",
       "  </thead>\n",
       "  <tbody>\n",
       "    <tr>\n",
       "      <th>0</th>\n",
       "      <td>2964.0</td>\n",
       "      <td>4.634615</td>\n",
       "      <td>16.084880</td>\n",
       "      <td>0.0</td>\n",
       "      <td>0.0</td>\n",
       "      <td>0.0</td>\n",
       "      <td>2.0</td>\n",
       "      <td>306.0</td>\n",
       "    </tr>\n",
       "    <tr>\n",
       "      <th>1</th>\n",
       "      <td>235.0</td>\n",
       "      <td>2.893617</td>\n",
       "      <td>7.713996</td>\n",
       "      <td>0.0</td>\n",
       "      <td>0.0</td>\n",
       "      <td>0.0</td>\n",
       "      <td>2.0</td>\n",
       "      <td>56.0</td>\n",
       "    </tr>\n",
       "  </tbody>\n",
       "</table>\n",
       "</div>"
      ],
      "text/plain": [
       "        count      mean        std  min  25%  50%  75%    max\n",
       "label                                                        \n",
       "0      2964.0  4.634615  16.084880  0.0  0.0  0.0  2.0  306.0\n",
       "1       235.0  2.893617   7.713996  0.0  0.0  0.0  2.0   56.0"
      ]
     },
     "execution_count": 34,
     "metadata": {},
     "output_type": "execute_result"
    }
   ],
   "source": [
    "features_data.groupby('label')['docs'].describe()"
   ]
  },
  {
   "cell_type": "code",
   "execution_count": 35,
   "id": "d825cb78",
   "metadata": {},
   "outputs": [
    {
     "data": {
      "text/html": [
       "<div>\n",
       "<style scoped>\n",
       "    .dataframe tbody tr th:only-of-type {\n",
       "        vertical-align: middle;\n",
       "    }\n",
       "\n",
       "    .dataframe tbody tr th {\n",
       "        vertical-align: top;\n",
       "    }\n",
       "\n",
       "    .dataframe thead th {\n",
       "        text-align: right;\n",
       "    }\n",
       "</style>\n",
       "<table border=\"1\" class=\"dataframe\">\n",
       "  <thead>\n",
       "    <tr style=\"text-align: right;\">\n",
       "      <th></th>\n",
       "      <th>count</th>\n",
       "      <th>mean</th>\n",
       "      <th>std</th>\n",
       "      <th>min</th>\n",
       "      <th>25%</th>\n",
       "      <th>50%</th>\n",
       "      <th>75%</th>\n",
       "      <th>max</th>\n",
       "    </tr>\n",
       "    <tr>\n",
       "      <th>label</th>\n",
       "      <th></th>\n",
       "      <th></th>\n",
       "      <th></th>\n",
       "      <th></th>\n",
       "      <th></th>\n",
       "      <th></th>\n",
       "      <th></th>\n",
       "      <th></th>\n",
       "    </tr>\n",
       "  </thead>\n",
       "  <tbody>\n",
       "    <tr>\n",
       "      <th>0</th>\n",
       "      <td>2964.0</td>\n",
       "      <td>5.835020</td>\n",
       "      <td>11.977230</td>\n",
       "      <td>0.0</td>\n",
       "      <td>0.0</td>\n",
       "      <td>1.0</td>\n",
       "      <td>7.0</td>\n",
       "      <td>269.0</td>\n",
       "    </tr>\n",
       "    <tr>\n",
       "      <th>1</th>\n",
       "      <td>235.0</td>\n",
       "      <td>2.340426</td>\n",
       "      <td>5.413171</td>\n",
       "      <td>0.0</td>\n",
       "      <td>0.0</td>\n",
       "      <td>0.0</td>\n",
       "      <td>2.0</td>\n",
       "      <td>37.0</td>\n",
       "    </tr>\n",
       "  </tbody>\n",
       "</table>\n",
       "</div>"
      ],
      "text/plain": [
       "        count      mean        std  min  25%  50%  75%    max\n",
       "label                                                        \n",
       "0      2964.0  5.835020  11.977230  0.0  0.0  1.0  7.0  269.0\n",
       "1       235.0  2.340426   5.413171  0.0  0.0  0.0  2.0   37.0"
      ]
     },
     "execution_count": 35,
     "metadata": {},
     "output_type": "execute_result"
    }
   ],
   "source": [
    "features_data.groupby('label')['marketing_newsletter_opened'].describe()"
   ]
  },
  {
   "cell_type": "code",
   "execution_count": 36,
   "id": "1f66e6c2",
   "metadata": {},
   "outputs": [
    {
     "data": {
      "text/html": [
       "<div>\n",
       "<style scoped>\n",
       "    .dataframe tbody tr th:only-of-type {\n",
       "        vertical-align: middle;\n",
       "    }\n",
       "\n",
       "    .dataframe tbody tr th {\n",
       "        vertical-align: top;\n",
       "    }\n",
       "\n",
       "    .dataframe thead th {\n",
       "        text-align: right;\n",
       "    }\n",
       "</style>\n",
       "<table border=\"1\" class=\"dataframe\">\n",
       "  <thead>\n",
       "    <tr style=\"text-align: right;\">\n",
       "      <th></th>\n",
       "      <th>count</th>\n",
       "      <th>mean</th>\n",
       "      <th>std</th>\n",
       "      <th>min</th>\n",
       "      <th>25%</th>\n",
       "      <th>50%</th>\n",
       "      <th>75%</th>\n",
       "      <th>max</th>\n",
       "    </tr>\n",
       "    <tr>\n",
       "      <th>label</th>\n",
       "      <th></th>\n",
       "      <th></th>\n",
       "      <th></th>\n",
       "      <th></th>\n",
       "      <th></th>\n",
       "      <th></th>\n",
       "      <th></th>\n",
       "      <th></th>\n",
       "    </tr>\n",
       "  </thead>\n",
       "  <tbody>\n",
       "    <tr>\n",
       "      <th>0</th>\n",
       "      <td>2964.0</td>\n",
       "      <td>1.923752</td>\n",
       "      <td>4.595805</td>\n",
       "      <td>0.0</td>\n",
       "      <td>0.0</td>\n",
       "      <td>0.0</td>\n",
       "      <td>2.0</td>\n",
       "      <td>50.0</td>\n",
       "    </tr>\n",
       "    <tr>\n",
       "      <th>1</th>\n",
       "      <td>235.0</td>\n",
       "      <td>1.097872</td>\n",
       "      <td>2.117034</td>\n",
       "      <td>0.0</td>\n",
       "      <td>0.0</td>\n",
       "      <td>0.0</td>\n",
       "      <td>1.0</td>\n",
       "      <td>11.0</td>\n",
       "    </tr>\n",
       "  </tbody>\n",
       "</table>\n",
       "</div>"
      ],
      "text/plain": [
       "        count      mean       std  min  25%  50%  75%   max\n",
       "label                                                      \n",
       "0      2964.0  1.923752  4.595805  0.0  0.0  0.0  2.0  50.0\n",
       "1       235.0  1.097872  2.117034  0.0  0.0  0.0  1.0  11.0"
      ]
     },
     "execution_count": 36,
     "metadata": {},
     "output_type": "execute_result"
    }
   ],
   "source": [
    "features_data.groupby('label')['marketing_campaign_opened'].describe()"
   ]
  },
  {
   "cell_type": "code",
   "execution_count": 37,
   "id": "dd1b0bcb",
   "metadata": {},
   "outputs": [
    {
     "data": {
      "text/html": [
       "<div>\n",
       "<style scoped>\n",
       "    .dataframe tbody tr th:only-of-type {\n",
       "        vertical-align: middle;\n",
       "    }\n",
       "\n",
       "    .dataframe tbody tr th {\n",
       "        vertical-align: top;\n",
       "    }\n",
       "\n",
       "    .dataframe thead th {\n",
       "        text-align: right;\n",
       "    }\n",
       "</style>\n",
       "<table border=\"1\" class=\"dataframe\">\n",
       "  <thead>\n",
       "    <tr style=\"text-align: right;\">\n",
       "      <th></th>\n",
       "      <th>blog</th>\n",
       "      <th>careers</th>\n",
       "      <th>docs</th>\n",
       "      <th>form_submit</th>\n",
       "      <th>join_slack</th>\n",
       "      <th>marketing_campaign_opened</th>\n",
       "      <th>marketing_newsletter_opened</th>\n",
       "      <th>pricing</th>\n",
       "      <th>user_signed_up</th>\n",
       "      <th>webapp</th>\n",
       "      <th>is_mql</th>\n",
       "      <th>days_since_first_seen</th>\n",
       "      <th>label</th>\n",
       "    </tr>\n",
       "    <tr>\n",
       "      <th>domain</th>\n",
       "      <th></th>\n",
       "      <th></th>\n",
       "      <th></th>\n",
       "      <th></th>\n",
       "      <th></th>\n",
       "      <th></th>\n",
       "      <th></th>\n",
       "      <th></th>\n",
       "      <th></th>\n",
       "      <th></th>\n",
       "      <th></th>\n",
       "      <th></th>\n",
       "      <th></th>\n",
       "    </tr>\n",
       "  </thead>\n",
       "  <tbody>\n",
       "    <tr>\n",
       "      <th>getmega.com</th>\n",
       "      <td>1</td>\n",
       "      <td>0</td>\n",
       "      <td>27</td>\n",
       "      <td>1</td>\n",
       "      <td>1</td>\n",
       "      <td>0</td>\n",
       "      <td>0</td>\n",
       "      <td>3</td>\n",
       "      <td>1</td>\n",
       "      <td>79</td>\n",
       "      <td>0.0</td>\n",
       "      <td>26</td>\n",
       "      <td>0</td>\n",
       "    </tr>\n",
       "    <tr>\n",
       "      <th>gasworksmedia.com</th>\n",
       "      <td>3</td>\n",
       "      <td>0</td>\n",
       "      <td>35</td>\n",
       "      <td>0</td>\n",
       "      <td>2</td>\n",
       "      <td>1</td>\n",
       "      <td>1</td>\n",
       "      <td>3</td>\n",
       "      <td>1</td>\n",
       "      <td>53</td>\n",
       "      <td>0.0</td>\n",
       "      <td>162</td>\n",
       "      <td>0</td>\n",
       "    </tr>\n",
       "    <tr>\n",
       "      <th>segment.com</th>\n",
       "      <td>8</td>\n",
       "      <td>0</td>\n",
       "      <td>17</td>\n",
       "      <td>1</td>\n",
       "      <td>0</td>\n",
       "      <td>1</td>\n",
       "      <td>43</td>\n",
       "      <td>0</td>\n",
       "      <td>0</td>\n",
       "      <td>9</td>\n",
       "      <td>0.0</td>\n",
       "      <td>237</td>\n",
       "      <td>0</td>\n",
       "    </tr>\n",
       "    <tr>\n",
       "      <th>ingrow.co</th>\n",
       "      <td>2</td>\n",
       "      <td>0</td>\n",
       "      <td>26</td>\n",
       "      <td>0</td>\n",
       "      <td>0</td>\n",
       "      <td>2</td>\n",
       "      <td>0</td>\n",
       "      <td>1</td>\n",
       "      <td>1</td>\n",
       "      <td>35</td>\n",
       "      <td>0.0</td>\n",
       "      <td>129</td>\n",
       "      <td>0</td>\n",
       "    </tr>\n",
       "    <tr>\n",
       "      <th>forgerock.com</th>\n",
       "      <td>1</td>\n",
       "      <td>0</td>\n",
       "      <td>16</td>\n",
       "      <td>1</td>\n",
       "      <td>1</td>\n",
       "      <td>2</td>\n",
       "      <td>9</td>\n",
       "      <td>3</td>\n",
       "      <td>1</td>\n",
       "      <td>17</td>\n",
       "      <td>1.0</td>\n",
       "      <td>64</td>\n",
       "      <td>0</td>\n",
       "    </tr>\n",
       "  </tbody>\n",
       "</table>\n",
       "</div>"
      ],
      "text/plain": [
       "                   blog  careers  docs  form_submit  join_slack  \\\n",
       "domain                                                            \n",
       "getmega.com           1        0    27            1           1   \n",
       "gasworksmedia.com     3        0    35            0           2   \n",
       "segment.com           8        0    17            1           0   \n",
       "ingrow.co             2        0    26            0           0   \n",
       "forgerock.com         1        0    16            1           1   \n",
       "\n",
       "                   marketing_campaign_opened  marketing_newsletter_opened  \\\n",
       "domain                                                                      \n",
       "getmega.com                                0                            0   \n",
       "gasworksmedia.com                          1                            1   \n",
       "segment.com                                1                           43   \n",
       "ingrow.co                                  2                            0   \n",
       "forgerock.com                              2                            9   \n",
       "\n",
       "                   pricing  user_signed_up  webapp  is_mql  \\\n",
       "domain                                                       \n",
       "getmega.com              3               1      79     0.0   \n",
       "gasworksmedia.com        3               1      53     0.0   \n",
       "segment.com              0               0       9     0.0   \n",
       "ingrow.co                1               1      35     0.0   \n",
       "forgerock.com            3               1      17     1.0   \n",
       "\n",
       "                   days_since_first_seen  label  \n",
       "domain                                           \n",
       "getmega.com                           26      0  \n",
       "gasworksmedia.com                    162      0  \n",
       "segment.com                          237      0  \n",
       "ingrow.co                            129      0  \n",
       "forgerock.com                         64      0  "
      ]
     },
     "execution_count": 37,
     "metadata": {},
     "output_type": "execute_result"
    }
   ],
   "source": [
    "features_data.query(\"docs>15\").sample(5)"
   ]
  },
  {
   "cell_type": "markdown",
   "id": "fd8bffec",
   "metadata": {},
   "source": [
    "Interesting that docs and marketing_newsletter have negative coefficients. Docs seem to be driven by outliers. 75th percentile for non-converted users has docs count = 0 but max is 93 compared to only 18 for converted. Probably high docs count before a call indicate competitors, research, or open-source propensity.\n",
    "\n",
    "Newsletter high count too is bad. This is throughout the curve, with all percentiles having high newsletter counts. This may be a confounding variable based on the fact that a user didn't convert for a long time which resulted in a lot of newsletter mails. "
   ]
  },
  {
   "cell_type": "code",
   "execution_count": 38,
   "id": "259b2661",
   "metadata": {},
   "outputs": [],
   "source": [
    "@dataclass\n",
    "class PrecisionRecallMetrics:\n",
    "    precision: List[float]\n",
    "    recall: List[float]\n",
    "    threshold: List[float]\n",
    "\n"
   ]
  },
  {
   "cell_type": "code",
   "execution_count": 39,
   "id": "fe209214",
   "metadata": {},
   "outputs": [],
   "source": [
    "all_users_pr_metrics = (precision_recall_curve(y_test, \n",
    "                                               all_users_response_with_mql_flag[\"model\"].predict_proba(X_test)[:,1]))\n",
    "\n",
    "all_users_pr_metrics = PrecisionRecallMetrics(*all_users_pr_metrics)\n",
    "\n",
    "non_mql_users_pr_metrics = (precision_recall_curve(y_test[X_test['is_mql']==0], \n",
    "                                                   all_users_response_with_mql_flag[\"model\"].predict_proba(X_test.query(\"is_mql==0\"))[:,1]))\n",
    "\n",
    "non_mql_users_pr_metrics = PrecisionRecallMetrics(*non_mql_users_pr_metrics)"
   ]
  },
  {
   "cell_type": "code",
   "execution_count": 40,
   "id": "108a8c81",
   "metadata": {},
   "outputs": [
    {
     "data": {
      "image/png": "[encoded data removed]",
      "text/plain": [
       "<Figure size 1152x432 with 1 Axes>"
      ]
     },
     "metadata": {
      "needs_background": "light"
     },
     "output_type": "display_data"
    }
   ],
   "source": [
    "plt.figure(figsize=(16,6))\n",
    "sns.lineplot(x=all_users_pr_metrics.precision[::10], y=all_users_pr_metrics.recall[::10])\n",
    "sns.lineplot(x=non_mql_users_pr_metrics.precision[::10], y=non_mql_users_pr_metrics.recall[::10])\n",
    "plt.xlabel(\"Precision\")\n",
    "plt.ylabel(\"Recall\")\n",
    "plt.grid(True)\n",
    "plt.legend([\"All Users\", \"Non MQL Only\"])\n",
    "plt.title(\"Lead scoring model with MQL as one of the features\");"
   ]
  },
  {
   "cell_type": "markdown",
   "id": "bc96a867",
   "metadata": {},
   "source": [
    "# Timebounding"
   ]
  },
  {
   "cell_type": "code",
   "execution_count": 41,
   "id": "5bb072ae",
   "metadata": {},
   "outputs": [],
   "source": [
    "max_time = touch_data_filtered['timestamp'].max()"
   ]
  },
  {
   "cell_type": "code",
   "execution_count": 42,
   "id": "97b13805",
   "metadata": {},
   "outputs": [],
   "source": [
    "delta_days = lambda row: (max_time - row['timestamp']).days if pd.isna(row['call_conversion_time']) else (row['call_conversion_time'] - row['timestamp']).days\n",
    "touch_data_filtered['delta_days'] = touch_data_filtered.apply(delta_days,axis=1)"
   ]
  },
  {
   "cell_type": "code",
   "execution_count": 43,
   "id": "dfe850c1",
   "metadata": {},
   "outputs": [
    {
     "data": {
      "text/html": [
       "<div>\n",
       "<style scoped>\n",
       "    .dataframe tbody tr th:only-of-type {\n",
       "        vertical-align: middle;\n",
       "    }\n",
       "\n",
       "    .dataframe tbody tr th {\n",
       "        vertical-align: top;\n",
       "    }\n",
       "\n",
       "    .dataframe thead th {\n",
       "        text-align: right;\n",
       "    }\n",
       "</style>\n",
       "<table border=\"1\" class=\"dataframe\">\n",
       "  <thead>\n",
       "    <tr style=\"text-align: right;\">\n",
       "      <th></th>\n",
       "      <th>domain</th>\n",
       "      <th>touch</th>\n",
       "      <th>timestamp</th>\n",
       "      <th>is_mql</th>\n",
       "      <th>touch_category</th>\n",
       "      <th>call_conversion_time</th>\n",
       "      <th>delta_days</th>\n",
       "    </tr>\n",
       "  </thead>\n",
       "  <tbody>\n",
       "    <tr>\n",
       "      <th>0</th>\n",
       "      <td>.company.com</td>\n",
       "      <td>join_slack</td>\n",
       "      <td>2021-12-15 10:44:50.051</td>\n",
       "      <td>NaN</td>\n",
       "      <td>tracks</td>\n",
       "      <td>NaT</td>\n",
       "      <td>49</td>\n",
       "    </tr>\n",
       "    <tr>\n",
       "      <th>1</th>\n",
       "      <td>.company.com</td>\n",
       "      <td>form_submit</td>\n",
       "      <td>2021-12-15 10:46:43.004</td>\n",
       "      <td>NaN</td>\n",
       "      <td>signup</td>\n",
       "      <td>NaT</td>\n",
       "      <td>49</td>\n",
       "    </tr>\n",
       "    <tr>\n",
       "      <th>2</th>\n",
       "      <td>.company.com</td>\n",
       "      <td>join_slack</td>\n",
       "      <td>2021-12-15 10:49:25.341</td>\n",
       "      <td>NaN</td>\n",
       "      <td>tracks</td>\n",
       "      <td>NaT</td>\n",
       "      <td>49</td>\n",
       "    </tr>\n",
       "    <tr>\n",
       "      <th>31</th>\n",
       "      <td>100xbit.com</td>\n",
       "      <td>user_signed_up</td>\n",
       "      <td>2021-08-09 15:55:39.069</td>\n",
       "      <td>0.0</td>\n",
       "      <td>signup</td>\n",
       "      <td>NaT</td>\n",
       "      <td>177</td>\n",
       "    </tr>\n",
       "    <tr>\n",
       "      <th>36</th>\n",
       "      <td>100xbit.com</td>\n",
       "      <td>marketing_newsletter_opened</td>\n",
       "      <td>2021-09-07 23:07:40.000</td>\n",
       "      <td>0.0</td>\n",
       "      <td>marketing</td>\n",
       "      <td>NaT</td>\n",
       "      <td>148</td>\n",
       "    </tr>\n",
       "  </tbody>\n",
       "</table>\n",
       "</div>"
      ],
      "text/plain": [
       "          domain                        touch               timestamp  is_mql  \\\n",
       "0   .company.com                   join_slack 2021-12-15 10:44:50.051     NaN   \n",
       "1   .company.com                  form_submit 2021-12-15 10:46:43.004     NaN   \n",
       "2   .company.com                   join_slack 2021-12-15 10:49:25.341     NaN   \n",
       "31   100xbit.com               user_signed_up 2021-08-09 15:55:39.069     0.0   \n",
       "36   100xbit.com  marketing_newsletter_opened 2021-09-07 23:07:40.000     0.0   \n",
       "\n",
       "   touch_category call_conversion_time  delta_days  \n",
       "0          tracks                  NaT          49  \n",
       "1          signup                  NaT          49  \n",
       "2          tracks                  NaT          49  \n",
       "31         signup                  NaT         177  \n",
       "36      marketing                  NaT         148  "
      ]
     },
     "execution_count": 43,
     "metadata": {},
     "output_type": "execute_result"
    }
   ],
   "source": [
    "touch_data_filtered.head()"
   ]
  },
  {
   "cell_type": "code",
   "execution_count": 44,
   "id": "df99d65c",
   "metadata": {},
   "outputs": [
    {
     "name": "stdout",
     "output_type": "stream",
     "text": [
      "Converted domains: \n",
      "\tTotal: 273\n",
      "\tIgnoring events in 3 days of conversion: 230\n",
      "\tConsidering only 3-90 days events: 229\n",
      "\n",
      "Non-converted domains:\n",
      "\tTotal: 5656\n",
      "\tIgnoring events in 3 days of conversion: 5599\n",
      "\tConsidering only 3-90 days events: 4556\n"
     ]
    }
   ],
   "source": [
    "logger.info(\"Converted domains: \")\n",
    "logger.info(f\"\\tTotal: {len(touch_data_filtered.query('~call_conversion_time.isnull()', engine='python')['domain'].unique())}\")\n",
    "logger.info(f\"\\tIgnoring events in 3 days of conversion: {len(touch_data_filtered.query('~call_conversion_time.isnull() and delta_days >= 3', engine='python')['domain'].unique())}\")\n",
    "logger.info(f\"\\tConsidering only 3-90 days events: {len(touch_data_filtered.query('~call_conversion_time.isnull() and delta_days >= 3 and delta_days <= 90', engine='python')['domain'].unique())}\")\n",
    "logger.info(\"\\nNon-converted domains:\")\n",
    "logger.info(f\"\\tTotal: {len(touch_data_filtered.query('call_conversion_time.isnull()', engine='python')['domain'].unique())}\")\n",
    "logger.info(f\"\\tIgnoring events in 3 days of conversion: {len(touch_data_filtered.query('call_conversion_time.isnull() and delta_days >= 3', engine='python')['domain'].unique())}\")\n",
    "logger.info(f\"\\tConsidering only 3-90 days events: {len(touch_data_filtered.query('call_conversion_time.isnull() and delta_days >= 3 and delta_days <= 90', engine='python')['domain'].unique())}\")"
   ]
  },
  {
   "cell_type": "code",
   "execution_count": 45,
   "id": "9d267518",
   "metadata": {},
   "outputs": [
    {
     "name": "stdout",
     "output_type": "stream",
     "text": [
      "Loaded data of 1538 domains after keeping only events between 3 and 90 days of conversion/last-seen date\n"
     ]
    }
   ],
   "source": [
    "## Building model only with events done >= 3 days of conversion, and <= 90 days - to prevent data leakage\n",
    "data_features_timed = get_feature_data(touch_data_filtered.query(\"delta_days>=3 and delta_days<=90\"))\n",
    "logging.info(f\"Loaded data of {len(data_features_timed)} domains after keeping only events between 3 and 90 days of conversion/last-seen date\")"
   ]
  },
  {
   "cell_type": "code",
   "execution_count": 46,
   "id": "88246671",
   "metadata": {},
   "outputs": [
    {
     "data": {
      "text/plain": [
       "1538"
      ]
     },
     "execution_count": 46,
     "metadata": {},
     "output_type": "execute_result"
    }
   ],
   "source": [
    "len(data_features_timed)"
   ]
  },
  {
   "cell_type": "code",
   "execution_count": 47,
   "id": "fde0d34c",
   "metadata": {},
   "outputs": [
    {
     "data": {
      "text/plain": [
       "0    0.892718\n",
       "1    0.107282\n",
       "Name: label, dtype: float64"
      ]
     },
     "execution_count": 47,
     "metadata": {},
     "output_type": "execute_result"
    }
   ],
   "source": [
    "data_features_timed['label'].value_counts(normalize=True)"
   ]
  },
  {
   "cell_type": "code",
   "execution_count": 48,
   "id": "83c7304f",
   "metadata": {},
   "outputs": [
    {
     "data": {
      "text/html": [
       "<div>\n",
       "<style scoped>\n",
       "    .dataframe tbody tr th:only-of-type {\n",
       "        vertical-align: middle;\n",
       "    }\n",
       "\n",
       "    .dataframe tbody tr th {\n",
       "        vertical-align: top;\n",
       "    }\n",
       "\n",
       "    .dataframe thead th {\n",
       "        text-align: right;\n",
       "    }\n",
       "</style>\n",
       "<table border=\"1\" class=\"dataframe\">\n",
       "  <thead>\n",
       "    <tr style=\"text-align: right;\">\n",
       "      <th>label</th>\n",
       "      <th>0</th>\n",
       "      <th>1</th>\n",
       "    </tr>\n",
       "    <tr>\n",
       "      <th>is_mql</th>\n",
       "      <th></th>\n",
       "      <th></th>\n",
       "    </tr>\n",
       "  </thead>\n",
       "  <tbody>\n",
       "    <tr>\n",
       "      <th>0.0</th>\n",
       "      <td>1057</td>\n",
       "      <td>65</td>\n",
       "    </tr>\n",
       "    <tr>\n",
       "      <th>1.0</th>\n",
       "      <td>316</td>\n",
       "      <td>100</td>\n",
       "    </tr>\n",
       "  </tbody>\n",
       "</table>\n",
       "</div>"
      ],
      "text/plain": [
       "label      0    1\n",
       "is_mql           \n",
       "0.0     1057   65\n",
       "1.0      316  100"
      ]
     },
     "execution_count": 48,
     "metadata": {},
     "output_type": "execute_result"
    }
   ],
   "source": [
    "pd.crosstab(data_features_timed[\"is_mql\"], data_features_timed[\"label\"])"
   ]
  },
  {
   "cell_type": "code",
   "execution_count": 49,
   "id": "f92705e8",
   "metadata": {},
   "outputs": [
    {
     "name": "stdout",
     "output_type": "stream",
     "text": [
      "Splitting the data into train-test data at ratio of 33% for test.\n",
      "Building logistic regression with C value 0.1\n",
      "Threshold that gives highest f1-score: 0.30. Corresponding metrics:\n",
      "['roc_auc: 0.92', 'f1: 0.66', 'precision: 0.67', 'recall: 0.65', 'pr_auc: 0.58']\n",
      "Confusion Matrix:\n"
     ]
    },
    {
     "data": {
      "image/png": "[encoded data removed]",
      "text/plain": [
       "<Figure size 432x288 with 2 Axes>"
      ]
     },
     "metadata": {
      "needs_background": "light"
     },
     "output_type": "display_data"
    },
    {
     "name": "stdout",
     "output_type": "stream",
     "text": [
      "\n",
      "Decile counts:\n"
     ]
    },
    {
     "data": {
      "text/html": [
       "<div>\n",
       "<style scoped>\n",
       "    .dataframe tbody tr th:only-of-type {\n",
       "        vertical-align: middle;\n",
       "    }\n",
       "\n",
       "    .dataframe tbody tr th {\n",
       "        vertical-align: top;\n",
       "    }\n",
       "\n",
       "    .dataframe thead th {\n",
       "        text-align: right;\n",
       "    }\n",
       "</style>\n",
       "<table border=\"1\" class=\"dataframe\">\n",
       "  <thead>\n",
       "    <tr style=\"text-align: right;\">\n",
       "      <th></th>\n",
       "      <th>0</th>\n",
       "      <th>1</th>\n",
       "      <th>1_z</th>\n",
       "    </tr>\n",
       "  </thead>\n",
       "  <tbody>\n",
       "    <tr>\n",
       "      <th>0.0</th>\n",
       "      <td>348</td>\n",
       "      <td>4</td>\n",
       "      <td>0.0114</td>\n",
       "    </tr>\n",
       "    <tr>\n",
       "      <th>0.1</th>\n",
       "      <td>56</td>\n",
       "      <td>8</td>\n",
       "      <td>0.1250</td>\n",
       "    </tr>\n",
       "    <tr>\n",
       "      <th>0.2</th>\n",
       "      <td>31</td>\n",
       "      <td>7</td>\n",
       "      <td>0.1842</td>\n",
       "    </tr>\n",
       "    <tr>\n",
       "      <th>0.3</th>\n",
       "      <td>8</td>\n",
       "      <td>8</td>\n",
       "      <td>0.5000</td>\n",
       "    </tr>\n",
       "    <tr>\n",
       "      <th>0.4</th>\n",
       "      <td>2</td>\n",
       "      <td>8</td>\n",
       "      <td>0.8000</td>\n",
       "    </tr>\n",
       "    <tr>\n",
       "      <th>0.5</th>\n",
       "      <td>2</td>\n",
       "      <td>12</td>\n",
       "      <td>0.8571</td>\n",
       "    </tr>\n",
       "    <tr>\n",
       "      <th>0.6</th>\n",
       "      <td>1</td>\n",
       "      <td>5</td>\n",
       "      <td>0.8333</td>\n",
       "    </tr>\n",
       "    <tr>\n",
       "      <th>0.7</th>\n",
       "      <td>0</td>\n",
       "      <td>1</td>\n",
       "      <td>1.0000</td>\n",
       "    </tr>\n",
       "    <tr>\n",
       "      <th>0.9</th>\n",
       "      <td>5</td>\n",
       "      <td>2</td>\n",
       "      <td>0.2857</td>\n",
       "    </tr>\n",
       "  </tbody>\n",
       "</table>\n",
       "</div>"
      ],
      "text/plain": [
       "       0   1     1_z\n",
       "0.0  348   4  0.0114\n",
       "0.1   56   8  0.1250\n",
       "0.2   31   7  0.1842\n",
       "0.3    8   8  0.5000\n",
       "0.4    2   8  0.8000\n",
       "0.5    2  12  0.8571\n",
       "0.6    1   5  0.8333\n",
       "0.7    0   1  1.0000\n",
       "0.9    5   2  0.2857"
      ]
     },
     "metadata": {},
     "output_type": "display_data"
    },
    {
     "name": "stdout",
     "output_type": "stream",
     "text": [
      "\n",
      "Constant: -0.4403\n",
      "                          event   coef\n",
      "10                       is_mql  0.831\n",
      "0                          blog  0.163\n",
      "7                       pricing  0.144\n",
      "6   marketing_newsletter_opened  0.110\n",
      "9                        webapp  0.064\n",
      "1                       careers  0.000\n",
      "3                   form_submit  0.000\n",
      "4                    join_slack  0.000\n",
      "5     marketing_campaign_opened  0.000\n",
      "11        days_since_first_seen -0.058\n",
      "2                          docs -0.169\n",
      "8                user_signed_up -0.600\n"
     ]
    }
   ],
   "source": [
    "logging.info(\"Splitting the data into train-test data at ratio of 33% for test.\")\n",
    "X_train, X_test, y_train, y_test = train_test_split(data_features_timed.drop(columns=[\"label\"]), \n",
    "                                                    data_features_timed[\"label\"],\n",
    "                                                    test_size=0.33, \n",
    "                                                    random_state=42,\n",
    "                                                    stratify=data_features_timed[[\"label\", \"is_mql\"]])\n",
    "all_users_response_with_mql_flag_timed = run_logistic_regression(X_train, X_test, y_train, y_test, l1_penalty)"
   ]
  },
  {
   "cell_type": "code",
   "execution_count": 50,
   "id": "aa5bced9",
   "metadata": {},
   "outputs": [],
   "source": [
    "all_users_pr_metrics = (precision_recall_curve(y_test, \n",
    "                                               all_users_response_with_mql_flag_timed[\"model\"].predict_proba(X_test)[:,1]))\n",
    "\n",
    "all_users_pr_metrics = PrecisionRecallMetrics(*all_users_pr_metrics)\n",
    "\n",
    "non_mql_users_pr_metrics = (precision_recall_curve(y_test[X_test['is_mql']==0], \n",
    "                                                   all_users_response_with_mql_flag_timed[\"model\"].predict_proba(X_test.query(\"is_mql==0\"))[:,1]))\n",
    "\n",
    "non_mql_users_pr_metrics = PrecisionRecallMetrics(*non_mql_users_pr_metrics)"
   ]
  },
  {
   "cell_type": "code",
   "execution_count": 51,
   "id": "cc2c54ec",
   "metadata": {},
   "outputs": [
    {
     "data": {
      "image/png": "[encoded data removed]",
      "text/plain": [
       "<Figure size 1152x432 with 1 Axes>"
      ]
     },
     "metadata": {
      "needs_background": "light"
     },
     "output_type": "display_data"
    }
   ],
   "source": [
    "plt.figure(figsize=(16,6))\n",
    "sns.lineplot(x=all_users_pr_metrics.precision[::10], y=all_users_pr_metrics.recall[::10])\n",
    "sns.lineplot(x=non_mql_users_pr_metrics.precision[::10], y=non_mql_users_pr_metrics.recall[::10])\n",
    "plt.xlabel(\"Precision\")\n",
    "plt.ylabel(\"Recall\")\n",
    "plt.grid(True)\n",
    "plt.legend([\"All Users\", \"Non MQL Only\"])\n",
    "plt.title(\"Lead scoring model with MQL as one of the features - considering events between 3 and 90 days only\");"
   ]
  },
  {
   "cell_type": "code",
   "execution_count": 52,
   "id": "191546aa",
   "metadata": {},
   "outputs": [],
   "source": [
    "data_features_timed['score'] = all_users_response_with_mql_flag_timed['model'].predict_proba(data_features_timed.drop(columns=['label']))[:,1]"
   ]
  },
  {
   "cell_type": "code",
   "execution_count": 53,
   "id": "6a9a46a6",
   "metadata": {},
   "outputs": [
    {
     "data": {
      "text/html": [
       "<div>\n",
       "<style scoped>\n",
       "    .dataframe tbody tr th:only-of-type {\n",
       "        vertical-align: middle;\n",
       "    }\n",
       "\n",
       "    .dataframe tbody tr th {\n",
       "        vertical-align: top;\n",
       "    }\n",
       "\n",
       "    .dataframe thead th {\n",
       "        text-align: right;\n",
       "    }\n",
       "</style>\n",
       "<table border=\"1\" class=\"dataframe\">\n",
       "  <thead>\n",
       "    <tr style=\"text-align: right;\">\n",
       "      <th></th>\n",
       "      <th>blog</th>\n",
       "      <th>careers</th>\n",
       "      <th>docs</th>\n",
       "      <th>form_submit</th>\n",
       "      <th>join_slack</th>\n",
       "      <th>marketing_campaign_opened</th>\n",
       "      <th>marketing_newsletter_opened</th>\n",
       "      <th>pricing</th>\n",
       "      <th>user_signed_up</th>\n",
       "      <th>webapp</th>\n",
       "      <th>is_mql</th>\n",
       "      <th>days_since_first_seen</th>\n",
       "      <th>label</th>\n",
       "      <th>score</th>\n",
       "    </tr>\n",
       "    <tr>\n",
       "      <th>domain</th>\n",
       "      <th></th>\n",
       "      <th></th>\n",
       "      <th></th>\n",
       "      <th></th>\n",
       "      <th></th>\n",
       "      <th></th>\n",
       "      <th></th>\n",
       "      <th></th>\n",
       "      <th></th>\n",
       "      <th></th>\n",
       "      <th></th>\n",
       "      <th></th>\n",
       "      <th></th>\n",
       "      <th></th>\n",
       "    </tr>\n",
       "  </thead>\n",
       "  <tbody>\n",
       "    <tr>\n",
       "      <th>123980.com</th>\n",
       "      <td>6</td>\n",
       "      <td>0</td>\n",
       "      <td>15</td>\n",
       "      <td>1</td>\n",
       "      <td>0</td>\n",
       "      <td>0</td>\n",
       "      <td>0</td>\n",
       "      <td>13</td>\n",
       "      <td>0</td>\n",
       "      <td>22</td>\n",
       "      <td>0.0</td>\n",
       "      <td>82</td>\n",
       "      <td>0</td>\n",
       "      <td>0.029043</td>\n",
       "    </tr>\n",
       "    <tr>\n",
       "      <th>13dkmail.cf</th>\n",
       "      <td>0</td>\n",
       "      <td>0</td>\n",
       "      <td>0</td>\n",
       "      <td>0</td>\n",
       "      <td>0</td>\n",
       "      <td>0</td>\n",
       "      <td>0</td>\n",
       "      <td>0</td>\n",
       "      <td>1</td>\n",
       "      <td>0</td>\n",
       "      <td>0.0</td>\n",
       "      <td>45</td>\n",
       "      <td>0</td>\n",
       "      <td>0.024890</td>\n",
       "    </tr>\n",
       "    <tr>\n",
       "      <th>1770.us</th>\n",
       "      <td>0</td>\n",
       "      <td>0</td>\n",
       "      <td>0</td>\n",
       "      <td>0</td>\n",
       "      <td>0</td>\n",
       "      <td>0</td>\n",
       "      <td>0</td>\n",
       "      <td>0</td>\n",
       "      <td>1</td>\n",
       "      <td>2</td>\n",
       "      <td>0.0</td>\n",
       "      <td>69</td>\n",
       "      <td>0</td>\n",
       "      <td>0.007092</td>\n",
       "    </tr>\n",
       "    <tr>\n",
       "      <th>1mo.fun</th>\n",
       "      <td>0</td>\n",
       "      <td>0</td>\n",
       "      <td>5</td>\n",
       "      <td>0</td>\n",
       "      <td>0</td>\n",
       "      <td>0</td>\n",
       "      <td>0</td>\n",
       "      <td>1</td>\n",
       "      <td>1</td>\n",
       "      <td>15</td>\n",
       "      <td>0.0</td>\n",
       "      <td>38</td>\n",
       "      <td>0</td>\n",
       "      <td>0.047387</td>\n",
       "    </tr>\n",
       "    <tr>\n",
       "      <th>1stopcbdbusiness.com</th>\n",
       "      <td>0</td>\n",
       "      <td>0</td>\n",
       "      <td>0</td>\n",
       "      <td>1</td>\n",
       "      <td>0</td>\n",
       "      <td>0</td>\n",
       "      <td>7</td>\n",
       "      <td>0</td>\n",
       "      <td>0</td>\n",
       "      <td>2</td>\n",
       "      <td>0.0</td>\n",
       "      <td>63</td>\n",
       "      <td>0</td>\n",
       "      <td>0.038468</td>\n",
       "    </tr>\n",
       "  </tbody>\n",
       "</table>\n",
       "</div>"
      ],
      "text/plain": [
       "                      blog  careers  docs  form_submit  join_slack  \\\n",
       "domain                                                               \n",
       "123980.com               6        0    15            1           0   \n",
       "13dkmail.cf              0        0     0            0           0   \n",
       "1770.us                  0        0     0            0           0   \n",
       "1mo.fun                  0        0     5            0           0   \n",
       "1stopcbdbusiness.com     0        0     0            1           0   \n",
       "\n",
       "                      marketing_campaign_opened  marketing_newsletter_opened  \\\n",
       "domain                                                                         \n",
       "123980.com                                    0                            0   \n",
       "13dkmail.cf                                   0                            0   \n",
       "1770.us                                       0                            0   \n",
       "1mo.fun                                       0                            0   \n",
       "1stopcbdbusiness.com                          0                            7   \n",
       "\n",
       "                      pricing  user_signed_up  webapp  is_mql  \\\n",
       "domain                                                          \n",
       "123980.com                 13               0      22     0.0   \n",
       "13dkmail.cf                 0               1       0     0.0   \n",
       "1770.us                     0               1       2     0.0   \n",
       "1mo.fun                     1               1      15     0.0   \n",
       "1stopcbdbusiness.com        0               0       2     0.0   \n",
       "\n",
       "                      days_since_first_seen  label     score  \n",
       "domain                                                        \n",
       "123980.com                               82      0  0.029043  \n",
       "13dkmail.cf                              45      0  0.024890  \n",
       "1770.us                                  69      0  0.007092  \n",
       "1mo.fun                                  38      0  0.047387  \n",
       "1stopcbdbusiness.com                     63      0  0.038468  "
      ]
     },
     "execution_count": 53,
     "metadata": {},
     "output_type": "execute_result"
    }
   ],
   "source": [
    "data_features_timed.head()"
   ]
  },
  {
   "cell_type": "code",
   "execution_count": 54,
   "id": "0f317e8f",
   "metadata": {},
   "outputs": [
    {
     "name": "stdout",
     "output_type": "stream",
     "text": [
      "ascii passed initial chaos probing. Mean measured chaos is 0.000000 %\n",
      "ascii should target any language(s) of ['Latin Based']\n",
      "We detected language [('English', 1.0), ('Indonesian', 1.0), ('Simple English', 1.0)] using ascii\n",
      "ascii is most likely the one. Stopping the process.\n",
      "ascii passed initial chaos probing. Mean measured chaos is 0.000000 %\n",
      "ascii should target any language(s) of ['Latin Based']\n",
      "We detected language [('German', 0.8333), ('Hungarian', 0.8333), ('Slovak', 0.8333), ('English', 0.75), ('Dutch', 0.75), ('Italian', 0.75), ('Swedish', 0.75), ('Norwegian', 0.75), ('Czech', 0.75), ('Indonesian', 0.75), ('Danish', 0.75), ('Polish', 0.6667), ('Finnish', 0.6667), ('Slovene', 0.6667), ('Turkish', 0.5833), ('Vietnamese', 0.5), ('Lithuanian', 0.5)] using ascii\n",
      "ascii is most likely the one. Stopping the process.\n",
      "ascii passed initial chaos probing. Mean measured chaos is 0.000000 %\n",
      "ascii should target any language(s) of ['Latin Based']\n",
      "We detected language [('English', 1.0), ('Indonesian', 1.0), ('Simple English', 1.0)] using ascii\n",
      "ascii is most likely the one. Stopping the process.\n"
     ]
    }
   ],
   "source": [
    "time_suffix = datetime.datetime.strftime(datetime.datetime.now(), '%Y-%m-%dT%H:%M:%S')\n",
    "output_location = f\"s3://{S3_BUCKET}/{S3_OUTPUT_FOLDER_LOCATION}/{time_suffix}\"\n",
    "data_features_timed.to_parquet(f\"{output_location}/scores.parquet\")"
   ]
  },
  {
   "cell_type": "code",
   "execution_count": 55,
   "id": "bf89778d",
   "metadata": {},
   "outputs": [
    {
     "data": {
      "text/plain": [
       "{'ResponseMetadata': {'RequestId': 'M3CH2ETTJM5FBQ5H',\n",
       "  'HostId': 'xsJTEzZ16bmi3XrxnATcqvgNpx0WmQSHXEdYo9RYabx7CsxflOlS/OzMqys8ZOCBkWycC0fgx44=',\n",
       "  'HTTPStatusCode': 200,\n",
       "  'HTTPHeaders': {'x-amz-id-2': 'xsJTEzZ16bmi3XrxnATcqvgNpx0WmQSHXEdYo9RYabx7CsxflOlS/OzMqys8ZOCBkWycC0fgx44=',\n",
       "   'x-amz-request-id': 'M3CH2ETTJM5FBQ5H',\n",
       "   'date': 'Thu, 03 Feb 2022 07:22:53 GMT',\n",
       "   'etag': '\"c8750fa04f6cc7b589b89edefda7b7a0\"',\n",
       "   'server': 'AmazonS3',\n",
       "   'content-length': '0'},\n",
       "  'RetryAttempts': 0},\n",
       " 'ETag': '\"c8750fa04f6cc7b589b89edefda7b7a0\"'}"
      ]
     },
     "execution_count": 55,
     "metadata": {},
     "output_type": "execute_result"
    }
   ],
   "source": [
    "#pickle_byte_obj = \n",
    "s3_resource = boto3.resource('s3')\n",
    "s3_resource.Object(S3_BUCKET,f\"{S3_OUTPUT_FOLDER_LOCATION}/{time_suffix}/model.pickle\").put(Body=pickle.dumps(all_users_response_with_mql_flag_timed[\"model\"]) )"
   ]
  },
  {
   "cell_type": "code",
   "execution_count": 56,
   "id": "bdceeb2a",
   "metadata": {},
   "outputs": [],
   "source": [
    "coefs = pd.DataFrame.from_dict(dict(zip(list(X_train), all_users_response_with_mql_flag_timed['model'].coef_[0])), orient='index').sort_values(by=0,ascending=False)\n",
    "coefs.loc['constant'] = all_users_response_with_mql_flag_timed['model'].intercept_[0]\n",
    "coefs = coefs.reset_index()\n",
    "coefs.columns = ['variable', 'coef']\n",
    "coefs.to_parquet(f\"s3://{S3_BUCKET}/{S3_OUTPUT_FOLDER_LOCATION}/{time_suffix}/coefficients.parquet\")"
   ]
  },
  {
   "cell_type": "code",
   "execution_count": 57,
   "id": "527e12c5",
   "metadata": {},
   "outputs": [
    {
     "name": "stdout",
     "output_type": "stream",
     "text": [
      "Copied data to the output location:\n",
      "\ts3://dileep-dev/rudder_wh_actions_usecases_attribution_lead_scoring/2022-02-03T07:22:51\n"
     ]
    }
   ],
   "source": [
    "logging.info(f\"Copied data to the output location:\\n\\t{output_location}\")"
   ]
  },
  {
   "cell_type": "code",
   "execution_count": 2,
   "id": "80239c36",
   "metadata": {},
   "outputs": [
    {
     "name": "stdout",
     "output_type": "stream",
     "text": [
      "/home/ec2-user/SageMaker/usecases-attribution\n"
     ]
    }
   ],
   "source": [
    "!pwd"
   ]
  }
 ],
 "metadata": {
  "kernelspec": {
   "display_name": "conda_python3",
   "language": "python",
   "name": "conda_python3"
  },
  "language_info": {
   "codemirror_mode": {
    "name": "ipython",
    "version": 3
   },
   "file_extension": ".py",
   "mimetype": "text/x-python",
   "name": "python",
   "nbconvert_exporter": "python",
   "pygments_lexer": "ipython3",
   "version": "3.6.13"
  }
 },
 "nbformat": 4,
 "nbformat_minor": 5
}
